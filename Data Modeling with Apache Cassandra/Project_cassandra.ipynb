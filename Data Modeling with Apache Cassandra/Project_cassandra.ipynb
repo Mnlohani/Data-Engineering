{
 "cells": [
  {
   "cell_type": "markdown",
   "metadata": {
    "editable": true
   },
   "source": [
    "# Part I. ETL Pipeline for Pre-Processing the Files"
   ]
  },
  {
   "cell_type": "markdown",
   "metadata": {
    "editable": true
   },
   "source": [
    "#### Import Python packages "
   ]
  },
  {
   "cell_type": "code",
   "execution_count": 33,
   "metadata": {
    "editable": true
   },
   "outputs": [],
   "source": [
    "# Import Python packages \n",
    "import pandas as pd\n",
    "import cassandra\n",
    "import re\n",
    "import os\n",
    "import glob\n",
    "import numpy as np\n",
    "import json\n",
    "import csv\n",
    "import time"
   ]
  },
  {
   "cell_type": "markdown",
   "metadata": {
    "editable": true
   },
   "source": [
    "## (A) Preprocessing with csv module"
   ]
  },
  {
   "cell_type": "markdown",
   "metadata": {
    "editable": true
   },
   "source": [
    "#### Creating list of filepaths to process original event csv data files"
   ]
  },
  {
   "cell_type": "code",
   "execution_count": 34,
   "metadata": {
    "editable": true
   },
   "outputs": [
    {
     "name": "stdout",
     "output_type": "stream",
     "text": [
      "/home/workspace\n"
     ]
    }
   ],
   "source": [
    "# checking the current working directory\n",
    "print(os.getcwd())\n",
    "\n",
    "# Get your current folder and subfolder event data\n",
    "filepath = os.getcwd() + '/event_data/'\n",
    "\n",
    "# check to remove assicated jupyter notebook folder if notebook run more than once\n",
    "all_dirs = [dirs for root, dirs, files in os.walk(filepath)]\n",
    "ipynb_file_path = os.getcwd() + '/event_data/.ipynb_checkpoints'\n",
    "if ['.ipynb_checkpoints'] in all_dirs:\n",
    "    shutil.rmtree(ipynb_file_path)\n",
    "\n",
    "# Create a for loop to create a list of files and collect each filepath\n",
    "for root, dirs, files in os.walk(filepath):\n",
    "    # join the file path and roots with the subdirectories using glob\n",
    "    file_path_list = glob.glob(os.path.join(root,'*'))"
   ]
  },
  {
   "cell_type": "markdown",
   "metadata": {
    "editable": true
   },
   "source": [
    "#### Processing the files to create the data file csv that will be used for Apache Casssandra tables"
   ]
  },
  {
   "cell_type": "code",
   "execution_count": 35,
   "metadata": {
    "editable": true
   },
   "outputs": [
    {
     "name": "stdout",
     "output_type": "stream",
     "text": [
      "Total number of rows in all files are  8056\n"
     ]
    }
   ],
   "source": [
    "# initiating an empty list of rows that will be generated from each file\n",
    "full_data_rows_list = [] \n",
    "    \n",
    "# for every filepath in the file path list \n",
    "for f in file_path_list:\n",
    "\n",
    "# reading csv file \n",
    "    with open(f, 'r', encoding = 'utf8', newline='') as csvfile: \n",
    "        # creating a csv reader object \n",
    "        csvreader = csv.reader(csvfile) \n",
    "        next(csvreader)\n",
    "        \n",
    " # extracting each data row one by one and append it        \n",
    "        for line in csvreader:\n",
    "            #print(line)\n",
    "            full_data_rows_list.append(line) \n",
    "            \n",
    "# total number of rows \n",
    "print(f'Total number of rows in all files are  {len(full_data_rows_list)}')\n",
    "# the list of event data rows will look like\n",
    "#print(full_data_rows_list)\n",
    "\n",
    "# creating a smaller event data csv file called event_datafile_full csv that will be used to insert data into the \\\n",
    "# Apache Cassandra tables\n",
    "csv.register_dialect('myDialect', quoting=csv.QUOTE_ALL, skipinitialspace=True)\n",
    "\n",
    "with open('event_datafile_new.csv', 'w', encoding = 'utf8', newline='') as f:\n",
    "    writer = csv.writer(f, dialect='myDialect')\n",
    "    writer.writerow(['artist','firstName','gender','itemInSession','lastName','length',\\\n",
    "                'level','location','sessionId','song','userId'])\n",
    "    for row in full_data_rows_list:\n",
    "        # remove when artist column is NA\n",
    "        if (row[0] == ''):\n",
    "            continue\n",
    "        writer.writerow((row[0], row[2], row[3], row[4], row[5], row[6], row[7], row[8], row[12], row[13], row[16]))\n"
   ]
  },
  {
   "cell_type": "code",
   "execution_count": 36,
   "metadata": {
    "editable": true
   },
   "outputs": [
    {
     "name": "stdout",
     "output_type": "stream",
     "text": [
      "Number of rows in newly created \"event_datafile_new.csv\" file: 6820\n"
     ]
    }
   ],
   "source": [
    "# check the number of rows in newly created 'event_datafile_new.csv' file\n",
    "with open('event_datafile_new.csv', 'r', encoding = 'utf8') as f:\n",
    "    print(f'Number of rows in newly created \"event_datafile_new.csv\" file: {sum(1 for line in f) -1}') # -1 for header line"
   ]
  },
  {
   "cell_type": "markdown",
   "metadata": {
    "editable": true
   },
   "source": [
    "## (B) Preprocessing with pandas for analysis & testing purposes"
   ]
  },
  {
   "cell_type": "code",
   "execution_count": 37,
   "metadata": {
    "editable": true
   },
   "outputs": [],
   "source": [
    "def process_data(filepath):\n",
    "    \"\"\"iterate over all files in a path\n",
    "    \n",
    "    Parameters:\n",
    "    ----------- \n",
    "    filepath: path of the directory containing .csv files\n",
    "    \n",
    "    Returns:\n",
    "    --------\n",
    "    all_files: list of all files matching the extension .csv \n",
    "               from the directory\n",
    "    \n",
    "    \"\"\"\n",
    "    \n",
    "    # get all files matching extension from directory \n",
    "    all_files = []\n",
    "    for root, dirs, files in os.walk(filepath):\n",
    "        files = glob.glob(os.path.join(root,'*.csv'))\n",
    "        for f in files :\n",
    "            all_files.append(os.path.abspath(f))\n",
    "    \n",
    "    # get total number of files found\n",
    "    num_files = len(all_files)\n",
    "    print('{} files found in {}'.format(num_files, filepath))  \n",
    "    return all_files"
   ]
  },
  {
   "cell_type": "code",
   "execution_count": 38,
   "metadata": {
    "editable": true
   },
   "outputs": [
    {
     "name": "stdout",
     "output_type": "stream",
     "text": [
      "30 files found in /home/workspace/event_data/\n"
     ]
    }
   ],
   "source": [
    "# Get your current folder and subfolder event data\n",
    "filepath = os.getcwd() + '/event_data/'\n",
    "\n",
    "file_names = process_data(filepath)\n",
    "\n",
    "df = pd.DataFrame()\n",
    "for each in file_names:\n",
    "    df = df.append(pd.read_csv(each, index_col=False), ignore_index=True, sort=False)\n"
   ]
  },
  {
   "cell_type": "code",
   "execution_count": 39,
   "metadata": {
    "editable": true
   },
   "outputs": [
    {
     "data": {
      "text/html": [
       "<div>\n",
       "<style scoped>\n",
       "    .dataframe tbody tr th:only-of-type {\n",
       "        vertical-align: middle;\n",
       "    }\n",
       "\n",
       "    .dataframe tbody tr th {\n",
       "        vertical-align: top;\n",
       "    }\n",
       "\n",
       "    .dataframe thead th {\n",
       "        text-align: right;\n",
       "    }\n",
       "</style>\n",
       "<table border=\"1\" class=\"dataframe\">\n",
       "  <thead>\n",
       "    <tr style=\"text-align: right;\">\n",
       "      <th></th>\n",
       "      <th>artist</th>\n",
       "      <th>auth</th>\n",
       "      <th>firstName</th>\n",
       "      <th>gender</th>\n",
       "      <th>itemInSession</th>\n",
       "      <th>lastName</th>\n",
       "      <th>length</th>\n",
       "      <th>level</th>\n",
       "      <th>location</th>\n",
       "      <th>method</th>\n",
       "      <th>page</th>\n",
       "      <th>registration</th>\n",
       "      <th>sessionId</th>\n",
       "      <th>song</th>\n",
       "      <th>status</th>\n",
       "      <th>ts</th>\n",
       "      <th>userId</th>\n",
       "    </tr>\n",
       "  </thead>\n",
       "  <tbody>\n",
       "    <tr>\n",
       "      <th>0</th>\n",
       "      <td>Barry Tuckwell/Academy of St Martin-in-the-Fie...</td>\n",
       "      <td>Logged In</td>\n",
       "      <td>Mohammad</td>\n",
       "      <td>M</td>\n",
       "      <td>0</td>\n",
       "      <td>Rodriguez</td>\n",
       "      <td>277.15873</td>\n",
       "      <td>paid</td>\n",
       "      <td>Sacramento--Roseville--Arden-Arcade, CA</td>\n",
       "      <td>PUT</td>\n",
       "      <td>NextSong</td>\n",
       "      <td>1.540510e+12</td>\n",
       "      <td>961</td>\n",
       "      <td>Horn Concerto No. 4 in E flat K495: II. Romanc...</td>\n",
       "      <td>200</td>\n",
       "      <td>1.543280e+12</td>\n",
       "      <td>88.0</td>\n",
       "    </tr>\n",
       "    <tr>\n",
       "      <th>1</th>\n",
       "      <td>Jimi Hendrix</td>\n",
       "      <td>Logged In</td>\n",
       "      <td>Mohammad</td>\n",
       "      <td>M</td>\n",
       "      <td>1</td>\n",
       "      <td>Rodriguez</td>\n",
       "      <td>239.82975</td>\n",
       "      <td>paid</td>\n",
       "      <td>Sacramento--Roseville--Arden-Arcade, CA</td>\n",
       "      <td>PUT</td>\n",
       "      <td>NextSong</td>\n",
       "      <td>1.540510e+12</td>\n",
       "      <td>961</td>\n",
       "      <td>Woodstock Inprovisation</td>\n",
       "      <td>200</td>\n",
       "      <td>1.543280e+12</td>\n",
       "      <td>88.0</td>\n",
       "    </tr>\n",
       "    <tr>\n",
       "      <th>2</th>\n",
       "      <td>Building 429</td>\n",
       "      <td>Logged In</td>\n",
       "      <td>Mohammad</td>\n",
       "      <td>M</td>\n",
       "      <td>2</td>\n",
       "      <td>Rodriguez</td>\n",
       "      <td>300.61669</td>\n",
       "      <td>paid</td>\n",
       "      <td>Sacramento--Roseville--Arden-Arcade, CA</td>\n",
       "      <td>PUT</td>\n",
       "      <td>NextSong</td>\n",
       "      <td>1.540510e+12</td>\n",
       "      <td>961</td>\n",
       "      <td>Majesty (LP Version)</td>\n",
       "      <td>200</td>\n",
       "      <td>1.543280e+12</td>\n",
       "      <td>88.0</td>\n",
       "    </tr>\n",
       "    <tr>\n",
       "      <th>3</th>\n",
       "      <td>The B-52's</td>\n",
       "      <td>Logged In</td>\n",
       "      <td>Gianna</td>\n",
       "      <td>F</td>\n",
       "      <td>0</td>\n",
       "      <td>Jones</td>\n",
       "      <td>321.54077</td>\n",
       "      <td>free</td>\n",
       "      <td>New York-Newark-Jersey City, NY-NJ-PA</td>\n",
       "      <td>PUT</td>\n",
       "      <td>NextSong</td>\n",
       "      <td>1.540870e+12</td>\n",
       "      <td>107</td>\n",
       "      <td>Love Shack</td>\n",
       "      <td>200</td>\n",
       "      <td>1.543280e+12</td>\n",
       "      <td>38.0</td>\n",
       "    </tr>\n",
       "    <tr>\n",
       "      <th>4</th>\n",
       "      <td>Die Mooskirchner</td>\n",
       "      <td>Logged In</td>\n",
       "      <td>Gianna</td>\n",
       "      <td>F</td>\n",
       "      <td>1</td>\n",
       "      <td>Jones</td>\n",
       "      <td>169.29914</td>\n",
       "      <td>free</td>\n",
       "      <td>New York-Newark-Jersey City, NY-NJ-PA</td>\n",
       "      <td>PUT</td>\n",
       "      <td>NextSong</td>\n",
       "      <td>1.540870e+12</td>\n",
       "      <td>107</td>\n",
       "      <td>Frisch und g'sund</td>\n",
       "      <td>200</td>\n",
       "      <td>1.543280e+12</td>\n",
       "      <td>38.0</td>\n",
       "    </tr>\n",
       "  </tbody>\n",
       "</table>\n",
       "</div>"
      ],
      "text/plain": [
       "                                              artist       auth firstName  \\\n",
       "0  Barry Tuckwell/Academy of St Martin-in-the-Fie...  Logged In  Mohammad   \n",
       "1                                       Jimi Hendrix  Logged In  Mohammad   \n",
       "2                                       Building 429  Logged In  Mohammad   \n",
       "3                                         The B-52's  Logged In    Gianna   \n",
       "4                                   Die Mooskirchner  Logged In    Gianna   \n",
       "\n",
       "  gender  itemInSession   lastName     length level  \\\n",
       "0      M              0  Rodriguez  277.15873  paid   \n",
       "1      M              1  Rodriguez  239.82975  paid   \n",
       "2      M              2  Rodriguez  300.61669  paid   \n",
       "3      F              0      Jones  321.54077  free   \n",
       "4      F              1      Jones  169.29914  free   \n",
       "\n",
       "                                  location method      page  registration  \\\n",
       "0  Sacramento--Roseville--Arden-Arcade, CA    PUT  NextSong  1.540510e+12   \n",
       "1  Sacramento--Roseville--Arden-Arcade, CA    PUT  NextSong  1.540510e+12   \n",
       "2  Sacramento--Roseville--Arden-Arcade, CA    PUT  NextSong  1.540510e+12   \n",
       "3    New York-Newark-Jersey City, NY-NJ-PA    PUT  NextSong  1.540870e+12   \n",
       "4    New York-Newark-Jersey City, NY-NJ-PA    PUT  NextSong  1.540870e+12   \n",
       "\n",
       "   sessionId                                               song  status  \\\n",
       "0        961  Horn Concerto No. 4 in E flat K495: II. Romanc...     200   \n",
       "1        961                            Woodstock Inprovisation     200   \n",
       "2        961                               Majesty (LP Version)     200   \n",
       "3        107                                         Love Shack     200   \n",
       "4        107                                  Frisch und g'sund     200   \n",
       "\n",
       "             ts  userId  \n",
       "0  1.543280e+12    88.0  \n",
       "1  1.543280e+12    88.0  \n",
       "2  1.543280e+12    88.0  \n",
       "3  1.543280e+12    38.0  \n",
       "4  1.543280e+12    38.0  "
      ]
     },
     "execution_count": 39,
     "metadata": {},
     "output_type": "execute_result"
    }
   ],
   "source": [
    "#check file structure\n",
    "df.head()"
   ]
  },
  {
   "cell_type": "code",
   "execution_count": 40,
   "metadata": {
    "editable": true
   },
   "outputs": [
    {
     "data": {
      "text/html": [
       "<div>\n",
       "<style scoped>\n",
       "    .dataframe tbody tr th:only-of-type {\n",
       "        vertical-align: middle;\n",
       "    }\n",
       "\n",
       "    .dataframe tbody tr th {\n",
       "        vertical-align: top;\n",
       "    }\n",
       "\n",
       "    .dataframe thead th {\n",
       "        text-align: right;\n",
       "    }\n",
       "</style>\n",
       "<table border=\"1\" class=\"dataframe\">\n",
       "  <thead>\n",
       "    <tr style=\"text-align: right;\">\n",
       "      <th></th>\n",
       "      <th>artist</th>\n",
       "      <th>firstName</th>\n",
       "      <th>gender</th>\n",
       "      <th>itemInSession</th>\n",
       "      <th>lastName</th>\n",
       "      <th>length</th>\n",
       "      <th>level</th>\n",
       "      <th>location</th>\n",
       "      <th>sessionId</th>\n",
       "      <th>song</th>\n",
       "      <th>userId</th>\n",
       "    </tr>\n",
       "  </thead>\n",
       "  <tbody>\n",
       "    <tr>\n",
       "      <th>0</th>\n",
       "      <td>Barry Tuckwell/Academy of St Martin-in-the-Fie...</td>\n",
       "      <td>Mohammad</td>\n",
       "      <td>M</td>\n",
       "      <td>0</td>\n",
       "      <td>Rodriguez</td>\n",
       "      <td>277.15873</td>\n",
       "      <td>paid</td>\n",
       "      <td>Sacramento--Roseville--Arden-Arcade, CA</td>\n",
       "      <td>961</td>\n",
       "      <td>Horn Concerto No. 4 in E flat K495: II. Romanc...</td>\n",
       "      <td>88.0</td>\n",
       "    </tr>\n",
       "    <tr>\n",
       "      <th>1</th>\n",
       "      <td>Jimi Hendrix</td>\n",
       "      <td>Mohammad</td>\n",
       "      <td>M</td>\n",
       "      <td>1</td>\n",
       "      <td>Rodriguez</td>\n",
       "      <td>239.82975</td>\n",
       "      <td>paid</td>\n",
       "      <td>Sacramento--Roseville--Arden-Arcade, CA</td>\n",
       "      <td>961</td>\n",
       "      <td>Woodstock Inprovisation</td>\n",
       "      <td>88.0</td>\n",
       "    </tr>\n",
       "    <tr>\n",
       "      <th>2</th>\n",
       "      <td>Building 429</td>\n",
       "      <td>Mohammad</td>\n",
       "      <td>M</td>\n",
       "      <td>2</td>\n",
       "      <td>Rodriguez</td>\n",
       "      <td>300.61669</td>\n",
       "      <td>paid</td>\n",
       "      <td>Sacramento--Roseville--Arden-Arcade, CA</td>\n",
       "      <td>961</td>\n",
       "      <td>Majesty (LP Version)</td>\n",
       "      <td>88.0</td>\n",
       "    </tr>\n",
       "    <tr>\n",
       "      <th>3</th>\n",
       "      <td>The B-52's</td>\n",
       "      <td>Gianna</td>\n",
       "      <td>F</td>\n",
       "      <td>0</td>\n",
       "      <td>Jones</td>\n",
       "      <td>321.54077</td>\n",
       "      <td>free</td>\n",
       "      <td>New York-Newark-Jersey City, NY-NJ-PA</td>\n",
       "      <td>107</td>\n",
       "      <td>Love Shack</td>\n",
       "      <td>38.0</td>\n",
       "    </tr>\n",
       "    <tr>\n",
       "      <th>4</th>\n",
       "      <td>Die Mooskirchner</td>\n",
       "      <td>Gianna</td>\n",
       "      <td>F</td>\n",
       "      <td>1</td>\n",
       "      <td>Jones</td>\n",
       "      <td>169.29914</td>\n",
       "      <td>free</td>\n",
       "      <td>New York-Newark-Jersey City, NY-NJ-PA</td>\n",
       "      <td>107</td>\n",
       "      <td>Frisch und g'sund</td>\n",
       "      <td>38.0</td>\n",
       "    </tr>\n",
       "  </tbody>\n",
       "</table>\n",
       "</div>"
      ],
      "text/plain": [
       "                                              artist firstName gender  \\\n",
       "0  Barry Tuckwell/Academy of St Martin-in-the-Fie...  Mohammad      M   \n",
       "1                                       Jimi Hendrix  Mohammad      M   \n",
       "2                                       Building 429  Mohammad      M   \n",
       "3                                         The B-52's    Gianna      F   \n",
       "4                                   Die Mooskirchner    Gianna      F   \n",
       "\n",
       "   itemInSession   lastName     length level  \\\n",
       "0              0  Rodriguez  277.15873  paid   \n",
       "1              1  Rodriguez  239.82975  paid   \n",
       "2              2  Rodriguez  300.61669  paid   \n",
       "3              0      Jones  321.54077  free   \n",
       "4              1      Jones  169.29914  free   \n",
       "\n",
       "                                  location  sessionId  \\\n",
       "0  Sacramento--Roseville--Arden-Arcade, CA        961   \n",
       "1  Sacramento--Roseville--Arden-Arcade, CA        961   \n",
       "2  Sacramento--Roseville--Arden-Arcade, CA        961   \n",
       "3    New York-Newark-Jersey City, NY-NJ-PA        107   \n",
       "4    New York-Newark-Jersey City, NY-NJ-PA        107   \n",
       "\n",
       "                                                song  userId  \n",
       "0  Horn Concerto No. 4 in E flat K495: II. Romanc...    88.0  \n",
       "1                            Woodstock Inprovisation    88.0  \n",
       "2                               Majesty (LP Version)    88.0  \n",
       "3                                         Love Shack    38.0  \n",
       "4                                  Frisch und g'sund    38.0  "
      ]
     },
     "execution_count": 40,
     "metadata": {},
     "output_type": "execute_result"
    }
   ],
   "source": [
    "# drop columns having \"NaN\" in artist column\n",
    "df_modified = df[df['artist'].notna()] \n",
    "\n",
    "# pick required columns\n",
    "df_required = df_modified.iloc[:, [0, 2, 3, 4, 5, 6, 7, 8, 12, 13, 16]]\n",
    "\n",
    "#show the required DataFrame to be saved into file\n",
    "df_required.head()"
   ]
  },
  {
   "cell_type": "markdown",
   "metadata": {
    "editable": true
   },
   "source": [
    "### Now, Sanity check for pandas and CSV reader style"
   ]
  },
  {
   "cell_type": "code",
   "execution_count": 41,
   "metadata": {
    "editable": true
   },
   "outputs": [
    {
     "name": "stdout",
     "output_type": "stream",
     "text": [
      "6820\n",
      "6820\n"
     ]
    }
   ],
   "source": [
    "#---comparson between the .csv files with csv module and pandas \n",
    "#---for double check \n",
    "\n",
    "#save the file from csv module into \"df_cross_check\" Dataframe\n",
    "df_cross_check  = pd.read_csv(\"event_datafile_new.csv\")\n",
    "\n",
    "# save the df_required DataFrame from pandas into .csv file\n",
    "out_file_path = 'event_datafile_new_pandas.csv'\n",
    "df_required.to_csv(out_file_path, index=False)\n",
    "\n",
    "#test the lengths of each DataFrame\n",
    "print(len(df_cross_check.index))\n",
    "print(len(df_required.index))"
   ]
  },
  {
   "cell_type": "markdown",
   "metadata": {
    "editable": true
   },
   "source": [
    "-----------"
   ]
  },
  {
   "cell_type": "markdown",
   "metadata": {
    "editable": true
   },
   "source": [
    "# Part II. Apache Cassandra Usage \n",
    "\n",
    "### Now we have <font color=red>event_datafile_new.csv</font>  and corresponding DataFrame <font color=red> df_cross_check </font>  which contains the following columns: \n",
    "- artist \n",
    "- firstName of user\n",
    "- gender of user\n",
    "- item number in session\n",
    "- last name of user\n",
    "- length of the song\n",
    "- level (paid or free song)\n",
    "- location of the user\n",
    "- sessionId\n",
    "- song title\n",
    "- userId\n",
    "\n",
    "The image below is a screenshot of the denormalized data \n",
    "\n",
    "<img src=\"images/image_event_datafile_new.jpg\">"
   ]
  },
  {
   "cell_type": "markdown",
   "metadata": {
    "editable": true
   },
   "source": [
    "### Lets assume, we need the following insights.  \n",
    "\n",
    "#### 1. The artist, song title and song's length in the music app history that was heard during  sessionId = 338, and itemInSession  = 4\n",
    "\n",
    "\n",
    "#### 2. Name of artist, song (sorted by itemInSession) and user (first and last name) for userid = 10, sessionid = 182\n",
    "    \n",
    "\n",
    "#### 3. Every user name (first and last) in my music app history who listened to the song 'All Hands Against His Own'  \n",
    "\n",
    "For this, we need to model our database tables in Apache cassandra database based on the queries. "
   ]
  },
  {
   "cell_type": "markdown",
   "metadata": {
    "editable": true
   },
   "source": [
    "### 1. Creating  cluster (making a connection to a cassandra instance)"
   ]
  },
  {
   "cell_type": "code",
   "execution_count": 42,
   "metadata": {
    "editable": true
   },
   "outputs": [],
   "source": [
    "from cassandra.cluster import Cluster\n",
    "\n",
    "# make a cluster object\n",
    "cluster = Cluster() \n",
    "\n",
    "# esteblish a connection with local machine to create session for executing queries \n",
    "session = cluster.connect() "
   ]
  },
  {
   "cell_type": "markdown",
   "metadata": {
    "editable": true
   },
   "source": [
    "### 2. Create Keyspace\n",
    "\n",
    "important : always keep keyspaces names in lower. The cassandra system stores the keyspace names in lower case."
   ]
  },
  {
   "cell_type": "code",
   "execution_count": 43,
   "metadata": {
    "editable": true
   },
   "outputs": [],
   "source": [
    "try:\n",
    "    session.execute(\"\"\"\n",
    "    \n",
    "    CREATE KEYSPACE IF NOT EXISTS project_nosql\n",
    "    WITH REPLICATION = {'class': 'SimpleStrategy',\n",
    "                        'replication_factor' : 1}\n",
    "    \"\"\")\n",
    "except Exception as e:\n",
    "    print(e)\n",
    "    "
   ]
  },
  {
   "cell_type": "markdown",
   "metadata": {
    "editable": true
   },
   "source": [
    "### 3. Set KEYSPACE to the keyspace specified above"
   ]
  },
  {
   "cell_type": "code",
   "execution_count": 44,
   "metadata": {
    "editable": true
   },
   "outputs": [],
   "source": [
    "try:\n",
    "    session.set_keyspace('project_nosql')\n",
    "except Exception as e:\n",
    "    print(e)"
   ]
  },
  {
   "cell_type": "markdown",
   "metadata": {
    "editable": true
   },
   "source": [
    " --------------------"
   ]
  },
  {
   "cell_type": "markdown",
   "metadata": {
    "editable": true
   },
   "source": [
    "## Query 1  \n",
    "### The artist, song title and song's length in the music app history that was heard during sessionId = 338, and itemInSession = 4   "
   ]
  },
  {
   "cell_type": "markdown",
   "metadata": {
    "editable": true
   },
   "source": [
    "#### Primary Key determination:  \n",
    "#### Analysing our data for uniqueness for session_id and iteminsession\n",
    "\n",
    "First we check the uniqueness of data for columns so to make it as a primary key or not. For this, we use pandas dataframe."
   ]
  },
  {
   "cell_type": "code",
   "execution_count": 45,
   "metadata": {
    "editable": true
   },
   "outputs": [],
   "source": [
    "df_ = df_cross_check[['sessionId', 'itemInSession']] #"
   ]
  },
  {
   "cell_type": "code",
   "execution_count": 46,
   "metadata": {
    "editable": true
   },
   "outputs": [],
   "source": [
    "df__ = df_.drop_duplicates(subset=['sessionId', 'itemInSession'])\n",
    "#df_.sort_values(['sessionId', 'itemInSession'])"
   ]
  },
  {
   "cell_type": "code",
   "execution_count": 47,
   "metadata": {
    "editable": true
   },
   "outputs": [
    {
     "name": "stdout",
     "output_type": "stream",
     "text": [
      "6820\n",
      "6820\n"
     ]
    }
   ],
   "source": [
    "print(len(df__.index))\n",
    "print(len(df_cross_check.index))"
   ]
  },
  {
   "cell_type": "markdown",
   "metadata": {
    "editable": true
   },
   "source": [
    "#### Since the above combination of  {'sessionId', 'itemInSession'}  has no any duplicates. So we can take this combination as a composite key. We take session_id as partition key and itemInSession as clustering column\n"
   ]
  },
  {
   "cell_type": "markdown",
   "metadata": {
    "editable": true
   },
   "source": [
    "#### Create Table"
   ]
  },
  {
   "cell_type": "code",
   "execution_count": 48,
   "metadata": {
    "editable": true
   },
   "outputs": [],
   "source": [
    "query_1 =  \"\"\" CREATE TABLE IF NOT EXISTS tbl_music_info_4_session_item\n",
    "             ( \n",
    "             session_id     int, \n",
    "             item_insession int, \n",
    "             artist         text, \n",
    "             title          text, \n",
    "             song_length    decimal,\n",
    "             PRIMARY KEY    (session_id, item_insession))\n",
    "         \"\"\"\n",
    "\n",
    "try:\n",
    "    session.execute(query_1)\n",
    "except Exception as e:\n",
    "    print(e)"
   ]
  },
  {
   "cell_type": "code",
   "execution_count": 49,
   "metadata": {
    "editable": true
   },
   "outputs": [
    {
     "name": "stdout",
     "output_type": "stream",
     "text": [
      "3.3635754529999993\n"
     ]
    }
   ],
   "source": [
    "start = time.process_time()\n",
    "\n",
    "file = 'event_datafile_new.csv'\n",
    "with open(file, encoding = 'utf8') as f:\n",
    "    csvreader = csv.reader(f)\n",
    "    next(csvreader) # skip header\n",
    "    for line in csvreader:\n",
    "        query = \"INSERT INTO tbl_music_info_4_session_item (session_id, item_insession, artist, title, song_length)\"\n",
    "        query = query + \"VALUES (%s, %s, %s, %s, %s)\"\n",
    "        session.execute(query, (int(line[8]), int(line[3]), line[0], line[9], float(line[5])))\n",
    "        \n",
    "print(time.process_time() - start)"
   ]
  },
  {
   "cell_type": "markdown",
   "metadata": {
    "editable": true
   },
   "source": [
    "#### comparing time with insertion with pandas "
   ]
  },
  {
   "cell_type": "code",
   "execution_count": 23,
   "metadata": {
    "editable": true
   },
   "outputs": [
    {
     "name": "stdout",
     "output_type": "stream",
     "text": [
      "5.454064913000001\n"
     ]
    }
   ],
   "source": [
    "start = time.process_time()\n",
    "\n",
    "for index, row in df_cross_check.iterrows():\n",
    "    query = \"INSERT INTO tbl_music_info_4_session_item (session_id, item_insession, artist, title, song_length)\"\n",
    "    query = query + \"VALUES (%s, %s, %s, %s, %s)\"\n",
    "    session.execute(query, (int(line[8]), int(line[3]), line[0], line[9], float(line[5])))\n",
    "\n",
    "print(time.process_time() - start)\n",
    "# row[0] or df_cross_check.iloc[index, 0] or df_cross_check.loc[index, \"artist\"]"
   ]
  },
  {
   "cell_type": "markdown",
   "metadata": {
    "editable": true
   },
   "source": [
    "##### We see for pandas , single-line data inseretion is taking more time."
   ]
  },
  {
   "cell_type": "markdown",
   "metadata": {
    "editable": true
   },
   "source": [
    "#### Verification of that the data have been inserted into table \"tbl_music_info_4_session_item\"."
   ]
  },
  {
   "cell_type": "code",
   "execution_count": 50,
   "metadata": {
    "editable": true
   },
   "outputs": [
    {
     "name": "stderr",
     "output_type": "stream",
     "text": [
      "WARNING:cassandra.protocol:Server warning: Aggregation query used without partition key\n"
     ]
    },
    {
     "name": "stdout",
     "output_type": "stream",
     "text": [
      "[Row(count=6820)]\n"
     ]
    }
   ],
   "source": [
    "query = \"\"\" \n",
    "SELECT \n",
    "    count(*)\n",
    "FROM \n",
    "    tbl_music_info_4_session_item;\n",
    "\"\"\"\n",
    "try:\n",
    "    rows = session.execute(query)\n",
    "except Exception as e:\n",
    "    print(e)\n",
    "    \n",
    "print(rows.current_rows)"
   ]
  },
  {
   "cell_type": "markdown",
   "metadata": {
    "editable": true
   },
   "source": [
    "#### *We get warning since the above defined query is a full scan, not performant and should be avoided. But E have used it since right now, we are working with not a big data file."
   ]
  },
  {
   "cell_type": "markdown",
   "metadata": {
    "editable": true
   },
   "source": [
    "#### Now the required query based on selection creteria session_id = 338 and itemInSession = 4 "
   ]
  },
  {
   "cell_type": "code",
   "execution_count": 51,
   "metadata": {
    "editable": true
   },
   "outputs": [
    {
     "name": "stdout",
     "output_type": "stream",
     "text": [
      "Faithless Music Matters (Mark Knight Dub) 495.3073\n"
     ]
    }
   ],
   "source": [
    "query = \"\"\" \n",
    "SELECT \n",
    "    artist, \n",
    "    title, \n",
    "    song_length\n",
    "FROM \n",
    "    tbl_music_info_4_session_item\n",
    "WHERE\n",
    "    session_id = 338 and item_insession = 4 \n",
    "\"\"\"\n",
    "try:\n",
    "    rows = session.execute(query)\n",
    "except Exception as e:\n",
    "    print(e)\n",
    "    \n",
    "for row in rows:\n",
    "    print(row. artist, row.title, row.song_length)"
   ]
  },
  {
   "cell_type": "markdown",
   "metadata": {
    "editable": true
   },
   "source": [
    "#### Testing"
   ]
  },
  {
   "cell_type": "code",
   "execution_count": 52,
   "metadata": {
    "editable": true
   },
   "outputs": [
    {
     "data": {
      "text/html": [
       "<div>\n",
       "<style scoped>\n",
       "    .dataframe tbody tr th:only-of-type {\n",
       "        vertical-align: middle;\n",
       "    }\n",
       "\n",
       "    .dataframe tbody tr th {\n",
       "        vertical-align: top;\n",
       "    }\n",
       "\n",
       "    .dataframe thead th {\n",
       "        text-align: right;\n",
       "    }\n",
       "</style>\n",
       "<table border=\"1\" class=\"dataframe\">\n",
       "  <thead>\n",
       "    <tr style=\"text-align: right;\">\n",
       "      <th></th>\n",
       "      <th>artist</th>\n",
       "      <th>song</th>\n",
       "      <th>length</th>\n",
       "    </tr>\n",
       "  </thead>\n",
       "  <tbody>\n",
       "    <tr>\n",
       "      <th>444</th>\n",
       "      <td>Faithless</td>\n",
       "      <td>Music Matters (Mark Knight Dub)</td>\n",
       "      <td>495.3073</td>\n",
       "    </tr>\n",
       "  </tbody>\n",
       "</table>\n",
       "</div>"
      ],
      "text/plain": [
       "        artist                             song    length\n",
       "444  Faithless  Music Matters (Mark Knight Dub)  495.3073"
      ]
     },
     "execution_count": 52,
     "metadata": {},
     "output_type": "execute_result"
    }
   ],
   "source": [
    "df_cross_check.loc[(df_cross_check['sessionId'] == 338) & (df_cross_check['itemInSession'] == 4), \\\n",
    "                   ['artist', 'song','length']]"
   ]
  },
  {
   "cell_type": "markdown",
   "metadata": {
    "editable": true
   },
   "source": [
    " ------"
   ]
  },
  {
   "cell_type": "markdown",
   "metadata": {
    "editable": true
   },
   "source": [
    "## Query 2 \n",
    "### The name of artist, song (sorted by itemInSession) and user (first and last name) for userid = 10, sessionid = 182  \n",
    "\n"
   ]
  },
  {
   "cell_type": "markdown",
   "metadata": {
    "editable": true
   },
   "source": [
    "#### Primary key determination :"
   ]
  },
  {
   "cell_type": "markdown",
   "metadata": {
    "editable": true
   },
   "source": [
    "#### 1. Uniqueness check : (user_id and session_id) as PK"
   ]
  },
  {
   "cell_type": "code",
   "execution_count": 53,
   "metadata": {
    "editable": true
   },
   "outputs": [
    {
     "name": "stdout",
     "output_type": "stream",
     "text": [
      "6820\n",
      "776\n"
     ]
    }
   ],
   "source": [
    "df_ = df_cross_check[['userId', 'sessionId']]\n",
    "print(len(df_.index))\n",
    "print(len(df_.drop_duplicates().index))"
   ]
  },
  {
   "cell_type": "markdown",
   "metadata": {
    "editable": true
   },
   "source": [
    "Therefore, `(user_id and session_id) as PK : fail`\n",
    "#### 2. Uniqueness check : (user_id, session_id, itemInSession) as PK"
   ]
  },
  {
   "cell_type": "code",
   "execution_count": 54,
   "metadata": {
    "editable": true
   },
   "outputs": [
    {
     "name": "stdout",
     "output_type": "stream",
     "text": [
      "6820\n",
      "6820\n"
     ]
    }
   ],
   "source": [
    "df_ = df_cross_check[['userId', 'sessionId', 'itemInSession']]\n",
    "print(len(df_.index))\n",
    "print(len(df_.drop_duplicates().index))"
   ]
  },
  {
   "cell_type": "markdown",
   "metadata": {
    "editable": true
   },
   "source": [
    "Therefore,  `(user_id, session_id, itemInSession) as PK : Pass`  \n",
    "\n",
    "But here order of data is also to be cosidered. Order of data in the table (within each partition) will be by default in ascending order of clustering column \"item_insession\"  during storage and retrieval as well.  \n",
    "Therfore, `PK = ((user_id, session_id), itemInSession)` \n",
    "\n",
    "**If asked in descending order:**  \n",
    "we add \"WITH CLUSTERING ORDER BY (item_insession DESC)\"  \n",
    "https://docs.datastax.com/en/cql-oss/3.3/cql/cql_using/useCompoundPrimaryKey.html  \n",
    "\n",
    "**But we can also fine-tune the display order using the ORDER BY clause.**  \n",
    "https://docs.datastax.com/en/cql-oss/3.3/cql/cql_using/useQueryColumnsSort.html  \n",
    "for that the partition key must be defined in the WHERE clause and the ORDER BY clause defines the clustering column to use for ordering. (which is not required if table created with clustering column as ascending order)"
   ]
  },
  {
   "cell_type": "markdown",
   "metadata": {
    "editable": true
   },
   "source": [
    "#### Create table"
   ]
  },
  {
   "cell_type": "code",
   "execution_count": 55,
   "metadata": {
    "editable": true
   },
   "outputs": [],
   "source": [
    "query_1 =  \"\"\" CREATE TABLE IF NOT EXISTS tbl_music_info_4_user_session\n",
    "             (user_id        int,\n",
    "              session_id     int,\n",
    "              item_insession int,\n",
    "              artist         text, \n",
    "              title          text, \n",
    "              first_name     text, \n",
    "              last_name      text, \n",
    "              PRIMARY KEY    ((user_id, session_id), item_insession)\n",
    "              ); -- WITH CLUSTERING ORDER BY (item_insession DESC)\n",
    "         \"\"\"\n",
    "\n",
    "try:\n",
    "    session.execute(query_1)\n",
    "except Exception as e:\n",
    "    print(e)                   "
   ]
  },
  {
   "cell_type": "markdown",
   "metadata": {
    "editable": true
   },
   "source": [
    "#### Data load into table"
   ]
  },
  {
   "cell_type": "code",
   "execution_count": 56,
   "metadata": {
    "editable": true
   },
   "outputs": [],
   "source": [
    "file = 'event_datafile_new.csv'\n",
    "\n",
    "with open(file, encoding = 'utf8') as f:\n",
    "    csvreader = csv.reader(f)\n",
    "    next(csvreader) # skip header\n",
    "    for line in csvreader:\n",
    "        query = \"INSERT INTO tbl_music_info_4_user_session ( user_id, session_id, item_insession, artist, title, first_name, last_name)\"\n",
    "        query = query + \"VALUES (%s, %s, %s, %s, %s,  %s, %s)\"\n",
    "        session.execute(query, (int(line[-1]), int(line[8]), int(line[3]), line[0], line[9], line[1], line[4]))"
   ]
  },
  {
   "cell_type": "code",
   "execution_count": 64,
   "metadata": {
    "editable": true
   },
   "outputs": [],
   "source": [
    "file = 'event_datafile_new.csv'\n",
    "\n",
    "with open(file, encoding = 'utf8') as f:\n",
    "    csvreader = csv.reader(f)\n",
    "    next(csvreader) # skip header\n",
    "    for line in csvreader:\n",
    "        query = \"INSERT INTO tbl_music_info_4_user_session_diff ( user_id, session_id, item_insession, artist, title, first_name, last_name)\"\n",
    "        query = query + \"VALUES (%s, %s, %s, %s, %s,  %s, %s)\"\n",
    "        session.execute(query, (int(line[-1]), int(line[8]), int(line[3]), line[0], line[9], line[1], line[4]))"
   ]
  },
  {
   "cell_type": "markdown",
   "metadata": {
    "editable": true
   },
   "source": [
    "#### Check for successful insertion"
   ]
  },
  {
   "cell_type": "code",
   "execution_count": 69,
   "metadata": {
    "editable": true
   },
   "outputs": [
    {
     "name": "stderr",
     "output_type": "stream",
     "text": [
      "WARNING:cassandra.protocol:Server warning: Aggregation query used without partition key\n"
     ]
    },
    {
     "name": "stdout",
     "output_type": "stream",
     "text": [
      "[Row(count=6820)]\n"
     ]
    }
   ],
   "source": [
    "query = \"\"\" \n",
    "SELECT \n",
    "    count(*)\n",
    "FROM \n",
    "    tbl_music_info_4_user_session;\n",
    "\"\"\"\n",
    "try:\n",
    "    rows = session.execute(query)\n",
    "except Exception as e:\n",
    "    print(e)\n",
    "    \n",
    "print(rows.current_rows)"
   ]
  },
  {
   "cell_type": "markdown",
   "metadata": {
    "editable": true
   },
   "source": [
    "#### *We get warning since the above defined query is a full scan, not performant and should be avoided. But we have used it since right now, we are working with not a big data file."
   ]
  },
  {
   "cell_type": "markdown",
   "metadata": {
    "editable": true
   },
   "source": [
    "#### Now the required query for selection"
   ]
  },
  {
   "cell_type": "code",
   "execution_count": 58,
   "metadata": {
    "editable": true
   },
   "outputs": [
    {
     "name": "stdout",
     "output_type": "stream",
     "text": [
      "0 Down To The Bone Keep On Keepin' On Sylvie Cruz\n",
      "1 Three Drives Greece 2000 Sylvie Cruz\n",
      "2 Sebastien Tellier Kilometer Sylvie Cruz\n",
      "3 Lonnie Gordon Catch You Baby (Steve Pitron & Max Sanna Radio Edit) Sylvie Cruz\n"
     ]
    }
   ],
   "source": [
    "query = \"\"\" \n",
    "SELECT \n",
    "    item_insession, artist, title, first_name, last_name\n",
    "FROM \n",
    "    tbl_music_info_4_user_session\n",
    "WHERE\n",
    "     user_id = 10 and session_id = 182\n",
    "ORDER BY \n",
    "     item_insession ASC; -- ORDER BY clause not necessary here\n",
    "\"\"\"\n",
    "try:\n",
    "    rows = session.execute(query)\n",
    "except Exception as e:\n",
    "    print(e)\n",
    "    \n",
    "for row in rows:\n",
    "    print( row.item_insession, row.artist, row.title, row.first_name, row.last_name)"
   ]
  },
  {
   "cell_type": "markdown",
   "metadata": {
    "editable": true
   },
   "source": [
    "### Testing"
   ]
  },
  {
   "cell_type": "code",
   "execution_count": 35,
   "metadata": {
    "editable": true
   },
   "outputs": [
    {
     "data": {
      "text/html": [
       "<div>\n",
       "<style scoped>\n",
       "    .dataframe tbody tr th:only-of-type {\n",
       "        vertical-align: middle;\n",
       "    }\n",
       "\n",
       "    .dataframe tbody tr th {\n",
       "        vertical-align: top;\n",
       "    }\n",
       "\n",
       "    .dataframe thead th {\n",
       "        text-align: right;\n",
       "    }\n",
       "</style>\n",
       "<table border=\"1\" class=\"dataframe\">\n",
       "  <thead>\n",
       "    <tr style=\"text-align: right;\">\n",
       "      <th></th>\n",
       "      <th>artist</th>\n",
       "      <th>song</th>\n",
       "      <th>firstName</th>\n",
       "      <th>lastName</th>\n",
       "      <th>itemInSession</th>\n",
       "    </tr>\n",
       "  </thead>\n",
       "  <tbody>\n",
       "    <tr>\n",
       "      <th>4704</th>\n",
       "      <td>Down To The Bone</td>\n",
       "      <td>Keep On Keepin' On</td>\n",
       "      <td>Sylvie</td>\n",
       "      <td>Cruz</td>\n",
       "      <td>0</td>\n",
       "    </tr>\n",
       "    <tr>\n",
       "      <th>4705</th>\n",
       "      <td>Three Drives</td>\n",
       "      <td>Greece 2000</td>\n",
       "      <td>Sylvie</td>\n",
       "      <td>Cruz</td>\n",
       "      <td>1</td>\n",
       "    </tr>\n",
       "    <tr>\n",
       "      <th>4706</th>\n",
       "      <td>Sebastien Tellier</td>\n",
       "      <td>Kilometer</td>\n",
       "      <td>Sylvie</td>\n",
       "      <td>Cruz</td>\n",
       "      <td>2</td>\n",
       "    </tr>\n",
       "    <tr>\n",
       "      <th>4707</th>\n",
       "      <td>Lonnie Gordon</td>\n",
       "      <td>Catch You Baby (Steve Pitron &amp; Max Sanna Radio...</td>\n",
       "      <td>Sylvie</td>\n",
       "      <td>Cruz</td>\n",
       "      <td>3</td>\n",
       "    </tr>\n",
       "  </tbody>\n",
       "</table>\n",
       "</div>"
      ],
      "text/plain": [
       "                 artist                                               song  \\\n",
       "4704   Down To The Bone                                 Keep On Keepin' On   \n",
       "4705       Three Drives                                        Greece 2000   \n",
       "4706  Sebastien Tellier                                          Kilometer   \n",
       "4707      Lonnie Gordon  Catch You Baby (Steve Pitron & Max Sanna Radio...   \n",
       "\n",
       "     firstName lastName  itemInSession  \n",
       "4704    Sylvie     Cruz              0  \n",
       "4705    Sylvie     Cruz              1  \n",
       "4706    Sylvie     Cruz              2  \n",
       "4707    Sylvie     Cruz              3  "
      ]
     },
     "execution_count": 35,
     "metadata": {},
     "output_type": "execute_result"
    }
   ],
   "source": [
    "df_cross_check.loc[(df_cross_check['userId'] == 10) & (df_cross_check['sessionId'] == 182), \\\n",
    "                   ['artist', 'song','firstName','lastName','itemInSession']].sort_values('itemInSession', ascending=True)"
   ]
  },
  {
   "cell_type": "markdown",
   "metadata": {
    "editable": true
   },
   "source": [
    " -------"
   ]
  },
  {
   "cell_type": "markdown",
   "metadata": {
    "editable": true
   },
   "source": [
    "## Query 3 \n",
    "### Every user name (first and last) in my music app history who listened to the song 'All Hands Against His Own'  "
   ]
  },
  {
   "cell_type": "markdown",
   "metadata": {
    "editable": true
   },
   "source": [
    "#### Primary key determination :"
   ]
  },
  {
   "cell_type": "code",
   "execution_count": 36,
   "metadata": {
    "editable": true
   },
   "outputs": [
    {
     "data": {
      "text/html": [
       "<div>\n",
       "<style scoped>\n",
       "    .dataframe tbody tr th:only-of-type {\n",
       "        vertical-align: middle;\n",
       "    }\n",
       "\n",
       "    .dataframe tbody tr th {\n",
       "        vertical-align: top;\n",
       "    }\n",
       "\n",
       "    .dataframe thead th {\n",
       "        text-align: right;\n",
       "    }\n",
       "</style>\n",
       "<table border=\"1\" class=\"dataframe\">\n",
       "  <thead>\n",
       "    <tr style=\"text-align: right;\">\n",
       "      <th></th>\n",
       "      <th>artist</th>\n",
       "      <th>firstName</th>\n",
       "      <th>gender</th>\n",
       "      <th>itemInSession</th>\n",
       "      <th>lastName</th>\n",
       "      <th>length</th>\n",
       "      <th>level</th>\n",
       "      <th>location</th>\n",
       "      <th>sessionId</th>\n",
       "      <th>song</th>\n",
       "      <th>userId</th>\n",
       "    </tr>\n",
       "  </thead>\n",
       "  <tbody>\n",
       "    <tr>\n",
       "      <th>3286</th>\n",
       "      <td>The Black Keys</td>\n",
       "      <td>Tegan</td>\n",
       "      <td>F</td>\n",
       "      <td>25</td>\n",
       "      <td>Levine</td>\n",
       "      <td>196.91057</td>\n",
       "      <td>paid</td>\n",
       "      <td>Portland-South Portland, ME</td>\n",
       "      <td>611</td>\n",
       "      <td>All Hands Against His Own</td>\n",
       "      <td>80.0</td>\n",
       "    </tr>\n",
       "    <tr>\n",
       "      <th>6012</th>\n",
       "      <td>The Black Keys</td>\n",
       "      <td>Sara</td>\n",
       "      <td>F</td>\n",
       "      <td>31</td>\n",
       "      <td>Johnson</td>\n",
       "      <td>196.91057</td>\n",
       "      <td>paid</td>\n",
       "      <td>Winston-Salem, NC</td>\n",
       "      <td>152</td>\n",
       "      <td>All Hands Against His Own</td>\n",
       "      <td>95.0</td>\n",
       "    </tr>\n",
       "    <tr>\n",
       "      <th>7391</th>\n",
       "      <td>The Black Keys</td>\n",
       "      <td>Jacqueline</td>\n",
       "      <td>F</td>\n",
       "      <td>50</td>\n",
       "      <td>Lynch</td>\n",
       "      <td>196.91057</td>\n",
       "      <td>paid</td>\n",
       "      <td>Atlanta-Sandy Springs-Roswell, GA</td>\n",
       "      <td>559</td>\n",
       "      <td>All Hands Against His Own</td>\n",
       "      <td>29.0</td>\n",
       "    </tr>\n",
       "  </tbody>\n",
       "</table>\n",
       "</div>"
      ],
      "text/plain": [
       "              artist   firstName gender  itemInSession lastName     length  \\\n",
       "3286  The Black Keys       Tegan      F             25   Levine  196.91057   \n",
       "6012  The Black Keys        Sara      F             31  Johnson  196.91057   \n",
       "7391  The Black Keys  Jacqueline      F             50    Lynch  196.91057   \n",
       "\n",
       "     level                           location  sessionId  \\\n",
       "3286  paid        Portland-South Portland, ME        611   \n",
       "6012  paid                  Winston-Salem, NC        152   \n",
       "7391  paid  Atlanta-Sandy Springs-Roswell, GA        559   \n",
       "\n",
       "                           song  userId  \n",
       "3286  All Hands Against His Own    80.0  \n",
       "6012  All Hands Against His Own    95.0  \n",
       "7391  All Hands Against His Own    29.0  "
      ]
     },
     "execution_count": 36,
     "metadata": {},
     "output_type": "execute_result"
    }
   ],
   "source": [
    "df_required.loc[df_required['song'] == 'All Hands Against His Own']\n",
    "#or\n",
    "#array = ['All Hands Against His Own']\n",
    "#df_required.loc[df_required['song'].isin(array)]"
   ]
  },
  {
   "cell_type": "markdown",
   "metadata": {
    "editable": true
   },
   "source": [
    "Since title is in where clause, so it should be taken as primary key. but if we take it as a simple primary key then we will get only the last row (7391) in above output  since other rows will be overridden. So we need to take a composite key ( title, first_name, last_name) as primary key. "
   ]
  },
  {
   "cell_type": "code",
   "execution_count": 37,
   "metadata": {
    "editable": true
   },
   "outputs": [
    {
     "name": "stdout",
     "output_type": "stream",
     "text": [
      "6820\n",
      "6618\n"
     ]
    }
   ],
   "source": [
    "df_ = df_cross_check[['song', 'userId']]\n",
    "print(len(df_.index))\n",
    "print(len(df_.drop_duplicates().index))"
   ]
  },
  {
   "cell_type": "markdown",
   "metadata": {
    "editable": true
   },
   "source": [
    "We see that, selecting only three columns (songs, first_name, and last_name) gives 202 rows as duplicate rows. But in our scenario (to find user_id for a perticular title), we will not have effect in our final result and also in our results, we only need one copy for any redundant rows. Apache Cassandra do not support duplicate rows. So these redundant rows will automatically not taken into account while insertion. Therfore, our choice ( title, user_id) as primary key is valid."
   ]
  },
  {
   "cell_type": "markdown",
   "metadata": {
    "editable": true
   },
   "source": [
    "#### Table creation"
   ]
  },
  {
   "cell_type": "code",
   "execution_count": 38,
   "metadata": {
    "editable": true
   },
   "outputs": [],
   "source": [
    "query_3 =  \"\"\" CREATE TABLE IF NOT EXISTS tbl_music_info_4_title\n",
    "             (title         text, \n",
    "              user_id       int, \n",
    "              first_name    text,\n",
    "              last_name     text,\n",
    "              PRIMARY KEY   (title, user_id))\n",
    "         \"\"\"\n",
    "\n",
    "try:\n",
    "    session.execute(query_3)\n",
    "except Exception as e:\n",
    "    print(e)\n",
    "                    "
   ]
  },
  {
   "cell_type": "markdown",
   "metadata": {
    "editable": true
   },
   "source": [
    "#### Data insertion"
   ]
  },
  {
   "cell_type": "code",
   "execution_count": 39,
   "metadata": {
    "editable": true
   },
   "outputs": [],
   "source": [
    "file = 'event_datafile_new.csv'\n",
    "\n",
    "with open(file, encoding = 'utf8') as f:\n",
    "    csvreader = csv.reader(f)\n",
    "    next(csvreader) # skip header\n",
    "    for line in csvreader:\n",
    "        query = \"INSERT INTO tbl_music_info_4_title (title, user_id, first_name, last_name)\"\n",
    "        query = query + \"VALUES (%s, %s, %s, %s)\"\n",
    "        session.execute(query, (line[9], int(line[-1]), line[1], line[4]))"
   ]
  },
  {
   "cell_type": "markdown",
   "metadata": {
    "editable": true
   },
   "source": [
    "#### Verification  and testing of data insertion"
   ]
  },
  {
   "cell_type": "code",
   "execution_count": 40,
   "metadata": {
    "editable": true
   },
   "outputs": [
    {
     "name": "stdout",
     "output_type": "stream",
     "text": [
      "[Row(count=6618)]\n"
     ]
    }
   ],
   "source": [
    "query = \"\"\"\n",
    "SELECT \n",
    "    count(*)\n",
    "FROM\n",
    "    tbl_music_info_4_title\n",
    "\"\"\"\n",
    "\n",
    "rows =  session.execute(query)\n",
    "\n",
    "print(rows.current_rows)"
   ]
  },
  {
   "cell_type": "markdown",
   "metadata": {
    "editable": true
   },
   "source": [
    "#### Required query (selection)"
   ]
  },
  {
   "cell_type": "code",
   "execution_count": 41,
   "metadata": {
    "editable": true
   },
   "outputs": [
    {
     "name": "stdout",
     "output_type": "stream",
     "text": [
      "Jacqueline Lynch\n",
      "Tegan Levine\n",
      "Sara Johnson\n"
     ]
    }
   ],
   "source": [
    "query = \"\"\"\n",
    "SELECT \n",
    "    first_name, last_name\n",
    "FROM\n",
    "    tbl_music_info_4_title\n",
    "WHERE\n",
    "    title = 'All Hands Against His Own'\n",
    "\"\"\"\n",
    "\n",
    "rows =  session.execute(query)\n",
    "\n",
    "for row in rows:\n",
    "    print(row.first_name, row.last_name)"
   ]
  },
  {
   "cell_type": "markdown",
   "metadata": {
    "editable": true
   },
   "source": [
    "#### Testing with pandas"
   ]
  },
  {
   "cell_type": "code",
   "execution_count": 42,
   "metadata": {
    "editable": true
   },
   "outputs": [
    {
     "data": {
      "text/html": [
       "<div>\n",
       "<style scoped>\n",
       "    .dataframe tbody tr th:only-of-type {\n",
       "        vertical-align: middle;\n",
       "    }\n",
       "\n",
       "    .dataframe tbody tr th {\n",
       "        vertical-align: top;\n",
       "    }\n",
       "\n",
       "    .dataframe thead th {\n",
       "        text-align: right;\n",
       "    }\n",
       "</style>\n",
       "<table border=\"1\" class=\"dataframe\">\n",
       "  <thead>\n",
       "    <tr style=\"text-align: right;\">\n",
       "      <th></th>\n",
       "      <th>firstName</th>\n",
       "      <th>lastName</th>\n",
       "    </tr>\n",
       "  </thead>\n",
       "  <tbody>\n",
       "    <tr>\n",
       "      <th>3286</th>\n",
       "      <td>Tegan</td>\n",
       "      <td>Levine</td>\n",
       "    </tr>\n",
       "    <tr>\n",
       "      <th>6012</th>\n",
       "      <td>Sara</td>\n",
       "      <td>Johnson</td>\n",
       "    </tr>\n",
       "    <tr>\n",
       "      <th>7391</th>\n",
       "      <td>Jacqueline</td>\n",
       "      <td>Lynch</td>\n",
       "    </tr>\n",
       "  </tbody>\n",
       "</table>\n",
       "</div>"
      ],
      "text/plain": [
       "       firstName lastName\n",
       "3286       Tegan   Levine\n",
       "6012        Sara  Johnson\n",
       "7391  Jacqueline    Lynch"
      ]
     },
     "execution_count": 42,
     "metadata": {},
     "output_type": "execute_result"
    }
   ],
   "source": [
    "df_required.loc[df_required['song'] == 'All Hands Against His Own', ['firstName', 'lastName']]\n",
    "#or\n",
    "#array = ['All Hands Against His Own']\n",
    "#df_required.loc[df_required['song'].isin(array)]"
   ]
  },
  {
   "cell_type": "markdown",
   "metadata": {
    "editable": true
   },
   "source": [
    "## Drop the tables before closing out the sessions and delete intermediate .csv files"
   ]
  },
  {
   "cell_type": "code",
   "execution_count": 43,
   "metadata": {
    "editable": true
   },
   "outputs": [
    {
     "name": "stdout",
     "output_type": "stream",
     "text": [
      "DROP TABLE tbl_music_info_4_session_item;\n",
      "DROP TABLE tbl_music_info_4_user_session;\n",
      "DROP TABLE tbl_music_info_4_title;\n"
     ]
    }
   ],
   "source": [
    "tables = ['tbl_music_info_4_session_item', 'tbl_music_info_4_user_session', 'tbl_music_info_4_title']\n",
    "\n",
    "for each_table in tables:\n",
    "    query = 'DROP TABLE ' + each_table + ';'\n",
    "    print(query)\n",
    "    session.execute(query)\n",
    "    \n",
    "os.remove(\"event_datafile_new.csv\")\n",
    "os.remove(\"event_datafile_new_pandas.csv\")"
   ]
  },
  {
   "cell_type": "markdown",
   "metadata": {
    "editable": true
   },
   "source": [
    "### Close the session and cluster connection¶"
   ]
  },
  {
   "cell_type": "code",
   "execution_count": 44,
   "metadata": {
    "editable": true
   },
   "outputs": [],
   "source": [
    "session.shutdown()\n",
    "cluster.shutdown()"
   ]
  },
  {
   "cell_type": "markdown",
   "metadata": {
    "editable": true
   },
   "source": [
    "-------"
   ]
  },
  {
   "cell_type": "code",
   "execution_count": null,
   "metadata": {
    "editable": true
   },
   "outputs": [],
   "source": []
  },
  {
   "cell_type": "markdown",
   "metadata": {
    "editable": true
   },
   "source": [
    "## For Learning purpose: Difference between composite and compound keys:The output structure"
   ]
  },
  {
   "cell_type": "code",
   "execution_count": 67,
   "metadata": {
    "editable": true
   },
   "outputs": [
    {
     "name": "stdout",
     "output_type": "stream",
     "text": [
      "58 768 0 System of a Down Sad Statue Emily Benson\n",
      "58 768 1 Ghostland Observatory Stranger Lover Emily Benson\n",
      "58 768 2 Evergreen Terrace Zero Emily Benson\n",
      "85 776 2 Deftones Head Up (LP Version) Kinsley Young\n",
      "85 776 3 The Notorious B.I.G. Playa Hater (Amended Version) Kinsley Young\n",
      "85 776 4 Orchestral Manoeuvres In The Dark Stay (The Black Rose And The Universal Wheel) Kinsley Young\n",
      "85 776 5 Vangelis Roxane's Veil Kinsley Young\n",
      "85 776 6 Spandau Ballet TRUE Kinsley Young\n",
      "85 776 8 The Pussycat Dolls I'm Done Kinsley Young\n",
      "85 776 9 The Hollies I'm Down Kinsley Young\n",
      "85 776 10 Lily Allen LDN Kinsley Young\n",
      "85 776 11 Fall Out Boy She's My Winona Kinsley Young\n",
      "85 776 12 Metallica The Unforgiven II Kinsley Young\n",
      "85 776 13 O-Zone Dragostea din tin (ma-ya-hi) Kinsley Young\n",
      "85 776 14 Murs Bad Man! Kinsley Young\n",
      "85 776 15 Basshunter Boten Anna [Radio edit] Kinsley Young\n",
      "85 776 16 Maelo Ruiz Te Va A Doler Kinsley Young\n",
      "85 776 17 Dwight Yoakam You're The One Kinsley Young\n",
      "85 776 18 Fragma Everytime You Need Me (Pulsedriver Remix) (Instrumental) Kinsley Young\n",
      "85 776 19 Temple Of The Dog Hunger Strike Kinsley Young\n",
      "85 776 20 Base Ball Bear Sayonara-Nostalgia Kinsley Young\n",
      "85 776 21 Rufus Wainwright Hallelujah Kinsley Young\n",
      "85 776 22 Leona Lewis Forgive Me Kinsley Young\n",
      "85 776 26 Jesse Cook Byzantium Underground Kinsley Young\n",
      "85 776 27 Barry Tuckwell/Academy of St Martin-in-the-Fields/Sir Neville Marriner Horn Concerto No. 4 in E flat K495: II. Romance (Andante cantabile) Kinsley Young\n",
      "85 776 28 Yonder Mountain String Band Boatman's Dance Kinsley Young\n",
      "85 776 29 Nine Inch Nails Dead Souls (LP Version) Kinsley Young\n",
      "85 776 30 Robert Calvert The Making Of Midgard (2007 Digital Remaster) Kinsley Young\n",
      "85 776 31 Abydos Green's Guidance For A Stategy Adventure Game Kinsley Young\n",
      "85 776 32 Karsh Kale Break of Dawn Kinsley Young\n",
      "85 776 33 Machine Head Halo (Explicit Album Version) Kinsley Young\n",
      "85 776 34 Common / Vinia Mojica / Roy Hargrove / Femi Kuti Time Traveling (A Tribute To Fela) Kinsley Young\n",
      "85 776 35 Denise Jannah 'Round Midnight Kinsley Young\n",
      "26 1068 0 1 Mile North Black Lines Ryan Smith\n",
      "26 1068 1 USS (Ubiquitous Synergy Seeker) Man Makes The Zoo Ryan Smith\n",
      "26 1068 2 EsmÃÂ©e Denters / Justin Timberlake Love Dealer (Featuring Justin Timberlake) Ryan Smith\n",
      "26 1068 3 Train Hey_ Soul Sister Ryan Smith\n",
      "26 1068 6 The Pussycat Dolls / Snoop Dogg Bottle Pop Ryan Smith\n",
      "26 1068 7 59 Times the Pain Found Home Ryan Smith\n",
      "26 1068 8 New Order The Perfect Kiss Ryan Smith\n",
      "26 1068 9 Bow Wow feat. Chris Brown and JohntÃÂ¡ Austin Shortie Like Mine Ryan Smith\n",
      "26 1068 10 Symphony X Domination Ryan Smith\n",
      "26 660 0 Vampire Weekend The Kids Don\u0019t Stand A Chance (Album) Ryan Smith\n",
      "26 660 1 OneRepublic Secrets Ryan Smith\n",
      "26 660 2 Mariah Carey Bye Bye Ryan Smith\n",
      "3 112 0 Rammstein Adios Isaac Valdez\n",
      "3 112 1 Gershon Kingsley Pop Corn Isaac Valdez\n",
      "3 112 2 The Rakes Strasbourg Isaac Valdez\n",
      "32 1036 1 Timbaland / Justin Timberlake / Nelly Furtado Give It To Me Lily Burns\n",
      "32 1036 2 Madonna Revolver [feat. Lil Wayne] Lily Burns\n"
     ]
    }
   ],
   "source": [
    "query = \"\"\" \n",
    "SELECT *\n",
    "FROM \n",
    "    tbl_music_info_4_user_session limit 50;\n",
    "\"\"\"\n",
    "try:\n",
    "    rows = session.execute(query)\n",
    "except Exception as e:\n",
    "    print(e)\n",
    "    \n",
    "for row in rows:\n",
    "    print(row.user_id, row.session_id, row.item_insession, row.artist, row.title, row.first_name, row.last_name)"
   ]
  },
  {
   "cell_type": "code",
   "execution_count": 63,
   "metadata": {
    "editable": true
   },
   "outputs": [],
   "source": [
    "query_1 =  \"\"\" CREATE TABLE IF NOT EXISTS tbl_music_info_4_user_session_diff\n",
    "             (user_id        int,\n",
    "              session_id     int,\n",
    "              item_insession int,\n",
    "              artist         text, \n",
    "              title          text, \n",
    "              first_name     text, \n",
    "              last_name      text, \n",
    "              PRIMARY KEY    (user_id, session_id, item_insession)\n",
    "              ); -- WITH CLUSTERING ORDER BY (item_insession DESC)\n",
    "         \"\"\"\n",
    "\n",
    "try:\n",
    "    session.execute(query_1)\n",
    "except Exception as e:\n",
    "    print(e)                   "
   ]
  },
  {
   "cell_type": "code",
   "execution_count": 68,
   "metadata": {
    "editable": true
   },
   "outputs": [
    {
     "name": "stdout",
     "output_type": "stream",
     "text": [
      "23 177 2 Dwight Yoakam You're The One Morris Gilmore\n",
      "23 351 0 Foals Blue Blood Morris Gilmore\n",
      "23 351 1 'N Sync/Phil Collins Trashin' The Camp (Phil And 'N Sync Version) Morris Gilmore\n",
      "23 841 0 Eminem Just Lose It Morris Gilmore\n",
      "53 52 2 Mynt Playa Haters Celeste Williams\n",
      "53 52 3 Taylor Swift You Belong With Me Celeste Williams\n",
      "53 52 4 Amy Winehouse Valerie Celeste Williams\n",
      "53 52 5 Jimmy Eat World Dizzy Celeste Williams\n",
      "53 215 0 Dido I'm No Angel Celeste Williams\n",
      "53 215 1 Lifehouse You And Me (Wedding Version) Celeste Williams\n",
      "53 215 2 Gary U.S. Bonds Angelyne Celeste Williams\n",
      "53 215 3 Throw Me The Statue Noises Celeste Williams\n",
      "53 311 0 Shakira Estoy AquÃÂ­ Celeste Williams\n",
      "53 438 1 Barry Tuckwell/Academy of St Martin-in-the-Fields/Sir Neville Marriner Horn Concerto No. 4 in E flat K495: II. Romance (Andante cantabile) Celeste Williams\n",
      "53 438 2 Gary Allan Nothing On But The Radio Celeste Williams\n",
      "53 438 3 Charttraxx Karaoke Fireflies Celeste Williams\n",
      "53 485 0 Coldplay A Rush Of Blood To The Head Celeste Williams\n",
      "53 485 1 Blockhead The Music Scene Celeste Williams\n",
      "53 626 0 Eminem Just Lose It Celeste Williams\n",
      "53 826 0 Bootsy Collins Stretchin' Out (In A Rubber Band) (LP Version) Celeste Williams\n",
      "53 860 0 Kid Cudi Up Up & Away Celeste Williams\n",
      "53 860 1 Stacie Orrico Stuck (Album Version) Celeste Williams\n",
      "53 883 0 The Beach Boys Let's Go Away For Awhile (Highlights From Tracking Date) Celeste Williams\n",
      "53 883 1 Steppenwolf Magic Carpet Ride Celeste Williams\n",
      "91 90 1 Creedence Clearwater Revival Midnight Special Jayden Bell\n",
      "91 90 2 Steve Miller Band The Joker Jayden Bell\n",
      "91 90 3 Bon Jovi It's My Life Jayden Bell\n",
      "91 645 1 Third World 1865 (96ÃÂº In The Shade) Jayden Bell\n",
      "91 645 2 Selena Gomez & The Scene Naturally Jayden Bell\n",
      "91 645 3 Lily Allen Littlest Things (Live At The Astoria) Jayden Bell\n",
      "91 829 0 Stephen Lynch Jim Henson's Dead Jayden Bell\n",
      "91 1085 0 T.I. Dead And Gone [feat. Justin Timberlake] (Explicit Album Version) Jayden Bell\n",
      "91 1085 1 Sneaker Pimps Spin Spin Sugar Jayden Bell\n",
      "55 250 0 The Gerbils (iii) Martin Johnson\n",
      "55 250 1 AFI Girl's Not Grey Martin Johnson\n",
      "55 331 1 Amy Adams Happy Working Song Martin Johnson\n",
      "55 331 2 Amy Winehouse Some Unholy War Martin Johnson\n",
      "55 415 0 Of Montreal Faberge Falls For Shuggie Martin Johnson\n",
      "55 415 1 OneRepublic Say (All I Need) Martin Johnson\n",
      "55 415 2 Collie Buddz ..Come Around Martin Johnson\n",
      "55 415 3 Salvador Find The Reason (Album Version) Martin Johnson\n",
      "55 415 5 The Verve Bitter Sweet Symphony Martin Johnson\n",
      "55 773 0 TRUSTcompany Take It All Martin Johnson\n",
      "55 996 1 Jadakiss / Swizz Beatz / OJ Da Juiceman Who's Real Martin Johnson\n",
      "55 1008 2 Jackson Do Pandeiro O Canto Da Ema Martin Johnson\n",
      "55 1008 3 Triumvirat Waterfall Martin Johnson\n",
      "55 1008 4 Billie The Vision & The Dancers Still be Friends Martin Johnson\n",
      "55 1008 5 Charttraxx Karaoke Fireflies Martin Johnson\n",
      "33 134 0 Salt 'n' Pepa with En Vogue Whatta Man (Salt-N-Pepa Featuring En Vogue) (EP Version) Bronson Harris\n",
      "33 134 1 Tiger Army Ghost Tigers Rise (Album Version) Bronson Harris\n"
     ]
    }
   ],
   "source": [
    "query = \"\"\" \n",
    "SELECT *\n",
    "FROM \n",
    "    tbl_music_info_4_user_session_diff limit 50;\n",
    "\"\"\"\n",
    "try:\n",
    "    rows = session.execute(query)\n",
    "except Exception as e:\n",
    "    print(e)\n",
    "    \n",
    "for row in rows:\n",
    "    print(row.user_id, row.session_id, row.item_insession, row.artist, row.title, row.first_name, row.last_name)"
   ]
  },
  {
   "cell_type": "code",
   "execution_count": null,
   "metadata": {
    "editable": true
   },
   "outputs": [],
   "source": []
  },
  {
   "cell_type": "code",
   "execution_count": null,
   "metadata": {
    "editable": true
   },
   "outputs": [],
   "source": []
  }
 ],
 "metadata": {
  "kernelspec": {
   "display_name": "Python 3",
   "language": "python",
   "name": "python3"
  },
  "language_info": {
   "codemirror_mode": {
    "name": "ipython",
    "version": 3
   },
   "file_extension": ".py",
   "mimetype": "text/x-python",
   "name": "python",
   "nbconvert_exporter": "python",
   "pygments_lexer": "ipython3",
   "version": "3.6.3"
  }
 },
 "nbformat": 4,
 "nbformat_minor": 4
}
