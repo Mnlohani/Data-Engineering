{
 "cells": [
  {
   "cell_type": "markdown",
   "metadata": {
    "editable": true
   },
   "source": [
    "# ETL Processes\n",
    "We Use this notebook to develop our  ETL process for each of your tables before completing the `etl.py` file to load the whole datasets.\n",
    "1. Single row insertion commands were used first for insertion and also given for reference. But we have used multi row insertion (BULK insertion) using COPY command of  postgreSQL.\n",
    "2. Please refer create_tables.py for all create and insert commands.\n",
    "3. To check the null values insertion and their data checkup, we have used all files in the directory \"data/song_data/A/A/A\"  for songs and artists table.\n",
    "4. We have used temporary tables for songs, artists, time, users for the BULK insertion of data so to include ON CONFLICT clause."
   ]
  },
  {
   "cell_type": "code",
   "execution_count": 1,
   "metadata": {
    "editable": true
   },
   "outputs": [],
   "source": [
    "import os\n",
    "import glob\n",
    "import psycopg2\n",
    "import pandas as pd\n",
    "import numpy as np\n",
    "from sql_queries import *"
   ]
  },
  {
   "cell_type": "code",
   "execution_count": 2,
   "metadata": {
    "editable": true
   },
   "outputs": [],
   "source": [
    "conn = psycopg2.connect(\"host=127.0.0.1 dbname=sparkifydb user=student password=student\")\n",
    "cur = conn.cursor()"
   ]
  },
  {
   "cell_type": "code",
   "execution_count": 3,
   "metadata": {
    "editable": true
   },
   "outputs": [],
   "source": [
    "def get_files(filepath):\n",
    "    all_files = []\n",
    "    for root, dirs, files in os.walk(filepath):\n",
    "        files = glob.glob(os.path.join(root,'*.json'))\n",
    "        for f in files :\n",
    "            all_files.append(os.path.abspath(f))\n",
    "    \n",
    "    return all_files"
   ]
  },
  {
   "cell_type": "code",
   "execution_count": 4,
   "metadata": {
    "editable": true
   },
   "outputs": [],
   "source": [
    "def process_data(filepath):\n",
    "    \"\"\"iterate over all files in a path\n",
    "    \n",
    "    Parameters:\n",
    "    ----------- \n",
    "    filepath: path of the .json files of which \n",
    "              data to be inserted into table\n",
    "    \"\"\"\n",
    "    \n",
    "    # get all files matching extension from directory \n",
    "    all_files = []\n",
    "    for root, dirs, files in os.walk(filepath):\n",
    "        files = glob.glob(os.path.join(root,'*.json'))\n",
    "        for f in files :\n",
    "            all_files.append(os.path.abspath(f))\n",
    "    \n",
    "    # get total number of files found\n",
    "    num_files = len(all_files)\n",
    "    print('{} files found in {}'.format(num_files, filepath))  \n",
    "    return all_files"
   ]
  },
  {
   "cell_type": "code",
   "execution_count": 5,
   "metadata": {
    "editable": true
   },
   "outputs": [
    {
     "name": "stdout",
     "output_type": "stream",
     "text": [
      "11 files found in data/song_data/A/A/A\n"
     ]
    }
   ],
   "source": [
    "file_names = process_data(\"data/song_data/A/A/A\")\n",
    "\n",
    "df = pd.DataFrame()\n",
    "for each in file_names:\n",
    "    df = df.append(pd.read_json(each, lines=True), ignore_index=True)"
   ]
  },
  {
   "cell_type": "code",
   "execution_count": 6,
   "metadata": {
    "editable": true
   },
   "outputs": [
    {
     "data": {
      "text/html": [
       "<div>\n",
       "<style scoped>\n",
       "    .dataframe tbody tr th:only-of-type {\n",
       "        vertical-align: middle;\n",
       "    }\n",
       "\n",
       "    .dataframe tbody tr th {\n",
       "        vertical-align: top;\n",
       "    }\n",
       "\n",
       "    .dataframe thead th {\n",
       "        text-align: right;\n",
       "    }\n",
       "</style>\n",
       "<table border=\"1\" class=\"dataframe\">\n",
       "  <thead>\n",
       "    <tr style=\"text-align: right;\">\n",
       "      <th></th>\n",
       "      <th>artist_id</th>\n",
       "      <th>artist_latitude</th>\n",
       "      <th>artist_location</th>\n",
       "      <th>artist_longitude</th>\n",
       "      <th>artist_name</th>\n",
       "      <th>duration</th>\n",
       "      <th>num_songs</th>\n",
       "      <th>song_id</th>\n",
       "      <th>title</th>\n",
       "      <th>year</th>\n",
       "    </tr>\n",
       "  </thead>\n",
       "  <tbody>\n",
       "    <tr>\n",
       "      <th>0</th>\n",
       "      <td>ARD7TVE1187B99BFB1</td>\n",
       "      <td>NaN</td>\n",
       "      <td>California - LA</td>\n",
       "      <td>NaN</td>\n",
       "      <td>Casual</td>\n",
       "      <td>218.93179</td>\n",
       "      <td>1</td>\n",
       "      <td>SOMZWCG12A8C13C480</td>\n",
       "      <td>I Didn't Mean To</td>\n",
       "      <td>0</td>\n",
       "    </tr>\n",
       "    <tr>\n",
       "      <th>1</th>\n",
       "      <td>ARNTLGG11E2835DDB9</td>\n",
       "      <td>NaN</td>\n",
       "      <td></td>\n",
       "      <td>NaN</td>\n",
       "      <td>Clp</td>\n",
       "      <td>266.39628</td>\n",
       "      <td>1</td>\n",
       "      <td>SOUDSGM12AC9618304</td>\n",
       "      <td>Insatiable (Instrumental Version)</td>\n",
       "      <td>0</td>\n",
       "    </tr>\n",
       "    <tr>\n",
       "      <th>2</th>\n",
       "      <td>AR8ZCNI1187B9A069B</td>\n",
       "      <td>NaN</td>\n",
       "      <td></td>\n",
       "      <td>NaN</td>\n",
       "      <td>Planet P Project</td>\n",
       "      <td>269.81832</td>\n",
       "      <td>1</td>\n",
       "      <td>SOIAZJW12AB01853F1</td>\n",
       "      <td>Pink World</td>\n",
       "      <td>1984</td>\n",
       "    </tr>\n",
       "    <tr>\n",
       "      <th>3</th>\n",
       "      <td>AR10USD1187B99F3F1</td>\n",
       "      <td>NaN</td>\n",
       "      <td>Burlington, Ontario, Canada</td>\n",
       "      <td>NaN</td>\n",
       "      <td>Tweeterfriendly Music</td>\n",
       "      <td>189.57016</td>\n",
       "      <td>1</td>\n",
       "      <td>SOHKNRJ12A6701D1F8</td>\n",
       "      <td>Drop of Rain</td>\n",
       "      <td>0</td>\n",
       "    </tr>\n",
       "    <tr>\n",
       "      <th>4</th>\n",
       "      <td>ARMJAGH1187FB546F3</td>\n",
       "      <td>35.14968</td>\n",
       "      <td>Memphis, TN</td>\n",
       "      <td>-90.04892</td>\n",
       "      <td>The Box Tops</td>\n",
       "      <td>148.03546</td>\n",
       "      <td>1</td>\n",
       "      <td>SOCIWDW12A8C13D406</td>\n",
       "      <td>Soul Deep</td>\n",
       "      <td>1969</td>\n",
       "    </tr>\n",
       "  </tbody>\n",
       "</table>\n",
       "</div>"
      ],
      "text/plain": [
       "            artist_id  artist_latitude              artist_location  \\\n",
       "0  ARD7TVE1187B99BFB1              NaN              California - LA   \n",
       "1  ARNTLGG11E2835DDB9              NaN                                \n",
       "2  AR8ZCNI1187B9A069B              NaN                                \n",
       "3  AR10USD1187B99F3F1              NaN  Burlington, Ontario, Canada   \n",
       "4  ARMJAGH1187FB546F3         35.14968                  Memphis, TN   \n",
       "\n",
       "   artist_longitude            artist_name   duration  num_songs  \\\n",
       "0               NaN                 Casual  218.93179          1   \n",
       "1               NaN                    Clp  266.39628          1   \n",
       "2               NaN       Planet P Project  269.81832          1   \n",
       "3               NaN  Tweeterfriendly Music  189.57016          1   \n",
       "4         -90.04892           The Box Tops  148.03546          1   \n",
       "\n",
       "              song_id                              title  year  \n",
       "0  SOMZWCG12A8C13C480                   I Didn't Mean To     0  \n",
       "1  SOUDSGM12AC9618304  Insatiable (Instrumental Version)     0  \n",
       "2  SOIAZJW12AB01853F1                         Pink World  1984  \n",
       "3  SOHKNRJ12A6701D1F8                       Drop of Rain     0  \n",
       "4  SOCIWDW12A8C13D406                          Soul Deep  1969  "
      ]
     },
     "execution_count": 6,
     "metadata": {},
     "output_type": "execute_result"
    }
   ],
   "source": [
    "df.head()"
   ]
  },
  {
   "cell_type": "markdown",
   "metadata": {
    "editable": true
   },
   "source": [
    "# Process `song_data`\n",
    "In this first part, you'll perform ETL on the first dataset, `song_data`, to create the `songs` and `artists` dimensional tables.\n",
    "\n",
    "Let's perform ETL on a single song file and load a single record into each table to start.\n",
    "- Use the `get_files` function provided above to get a list of all song JSON files in `data/song_data`\n",
    "- Select the first song in this list\n",
    "- Read the song file and view the data"
   ]
  },
  {
   "cell_type": "markdown",
   "metadata": {
    "editable": true
   },
   "source": [
    "## #1: `songs` Table\n",
    "#### Extract Data for Songs Table\n",
    "- Select columns for song ID, title, artist ID, year, and duration\n",
    "- Use `df.values` to select just the values from the dataframe\n",
    "- Index to select the first (only) record in the dataframe\n",
    "- Convert the array to a list and set it to `song_data`"
   ]
  },
  {
   "cell_type": "code",
   "execution_count": 7,
   "metadata": {
    "editable": true
   },
   "outputs": [],
   "source": [
    "# --- for a single row extraction\n",
    "#song_data = df[[\"song_id\", \"title\", \"artist_id\", \"year\", \"duration\"]].values[0]\n",
    "#song_data = list(song_data)"
   ]
  },
  {
   "cell_type": "code",
   "execution_count": 8,
   "metadata": {
    "editable": true
   },
   "outputs": [
    {
     "data": {
      "text/html": [
       "<div>\n",
       "<style scoped>\n",
       "    .dataframe tbody tr th:only-of-type {\n",
       "        vertical-align: middle;\n",
       "    }\n",
       "\n",
       "    .dataframe tbody tr th {\n",
       "        vertical-align: top;\n",
       "    }\n",
       "\n",
       "    .dataframe thead th {\n",
       "        text-align: right;\n",
       "    }\n",
       "</style>\n",
       "<table border=\"1\" class=\"dataframe\">\n",
       "  <thead>\n",
       "    <tr style=\"text-align: right;\">\n",
       "      <th></th>\n",
       "      <th>song_id</th>\n",
       "      <th>title</th>\n",
       "      <th>artist_id</th>\n",
       "      <th>year</th>\n",
       "      <th>duration</th>\n",
       "    </tr>\n",
       "  </thead>\n",
       "  <tbody>\n",
       "    <tr>\n",
       "      <th>0</th>\n",
       "      <td>SOMZWCG12A8C13C480</td>\n",
       "      <td>I Didn't Mean To</td>\n",
       "      <td>ARD7TVE1187B99BFB1</td>\n",
       "      <td>0</td>\n",
       "      <td>218.93179</td>\n",
       "    </tr>\n",
       "    <tr>\n",
       "      <th>1</th>\n",
       "      <td>SOUDSGM12AC9618304</td>\n",
       "      <td>Insatiable (Instrumental Version)</td>\n",
       "      <td>ARNTLGG11E2835DDB9</td>\n",
       "      <td>0</td>\n",
       "      <td>266.39628</td>\n",
       "    </tr>\n",
       "    <tr>\n",
       "      <th>2</th>\n",
       "      <td>SOIAZJW12AB01853F1</td>\n",
       "      <td>Pink World</td>\n",
       "      <td>AR8ZCNI1187B9A069B</td>\n",
       "      <td>1984</td>\n",
       "      <td>269.81832</td>\n",
       "    </tr>\n",
       "    <tr>\n",
       "      <th>3</th>\n",
       "      <td>SOHKNRJ12A6701D1F8</td>\n",
       "      <td>Drop of Rain</td>\n",
       "      <td>AR10USD1187B99F3F1</td>\n",
       "      <td>0</td>\n",
       "      <td>189.57016</td>\n",
       "    </tr>\n",
       "    <tr>\n",
       "      <th>4</th>\n",
       "      <td>SOCIWDW12A8C13D406</td>\n",
       "      <td>Soul Deep</td>\n",
       "      <td>ARMJAGH1187FB546F3</td>\n",
       "      <td>1969</td>\n",
       "      <td>148.03546</td>\n",
       "    </tr>\n",
       "    <tr>\n",
       "      <th>5</th>\n",
       "      <td>SOYMRWW12A6D4FAB14</td>\n",
       "      <td>The Moon And I (Ordinary Day Album Version)</td>\n",
       "      <td>ARKFYS91187B98E58F</td>\n",
       "      <td>0</td>\n",
       "      <td>267.70240</td>\n",
       "    </tr>\n",
       "    <tr>\n",
       "      <th>6</th>\n",
       "      <td>SOMJBYD12A6D4F8557</td>\n",
       "      <td>Keepin It Real (Skit)</td>\n",
       "      <td>ARD0S291187B9B7BF5</td>\n",
       "      <td>0</td>\n",
       "      <td>114.78159</td>\n",
       "    </tr>\n",
       "    <tr>\n",
       "      <th>7</th>\n",
       "      <td>SOQHXMF12AB0182363</td>\n",
       "      <td>Young Boy Blues</td>\n",
       "      <td>ARGSJW91187B9B1D6B</td>\n",
       "      <td>0</td>\n",
       "      <td>218.77506</td>\n",
       "    </tr>\n",
       "    <tr>\n",
       "      <th>8</th>\n",
       "      <td>SONHOTT12A8C13493C</td>\n",
       "      <td>Something Girls</td>\n",
       "      <td>AR7G5I41187FB4CE6C</td>\n",
       "      <td>1982</td>\n",
       "      <td>233.40363</td>\n",
       "    </tr>\n",
       "    <tr>\n",
       "      <th>9</th>\n",
       "      <td>SOFSOCN12A8C143F5D</td>\n",
       "      <td>Face the Ashes</td>\n",
       "      <td>ARXR32B1187FB57099</td>\n",
       "      <td>2007</td>\n",
       "      <td>209.60608</td>\n",
       "    </tr>\n",
       "    <tr>\n",
       "      <th>10</th>\n",
       "      <td>SOXVLOJ12AB0189215</td>\n",
       "      <td>Amor De Cabaret</td>\n",
       "      <td>ARKRRTF1187B9984DA</td>\n",
       "      <td>0</td>\n",
       "      <td>177.47546</td>\n",
       "    </tr>\n",
       "  </tbody>\n",
       "</table>\n",
       "</div>"
      ],
      "text/plain": [
       "               song_id                                        title  \\\n",
       "0   SOMZWCG12A8C13C480                             I Didn't Mean To   \n",
       "1   SOUDSGM12AC9618304            Insatiable (Instrumental Version)   \n",
       "2   SOIAZJW12AB01853F1                                   Pink World   \n",
       "3   SOHKNRJ12A6701D1F8                                 Drop of Rain   \n",
       "4   SOCIWDW12A8C13D406                                    Soul Deep   \n",
       "5   SOYMRWW12A6D4FAB14  The Moon And I (Ordinary Day Album Version)   \n",
       "6   SOMJBYD12A6D4F8557                        Keepin It Real (Skit)   \n",
       "7   SOQHXMF12AB0182363                              Young Boy Blues   \n",
       "8   SONHOTT12A8C13493C                              Something Girls   \n",
       "9   SOFSOCN12A8C143F5D                               Face the Ashes   \n",
       "10  SOXVLOJ12AB0189215                              Amor De Cabaret   \n",
       "\n",
       "             artist_id  year   duration  \n",
       "0   ARD7TVE1187B99BFB1     0  218.93179  \n",
       "1   ARNTLGG11E2835DDB9     0  266.39628  \n",
       "2   AR8ZCNI1187B9A069B  1984  269.81832  \n",
       "3   AR10USD1187B99F3F1     0  189.57016  \n",
       "4   ARMJAGH1187FB546F3  1969  148.03546  \n",
       "5   ARKFYS91187B98E58F     0  267.70240  \n",
       "6   ARD0S291187B9B7BF5     0  114.78159  \n",
       "7   ARGSJW91187B9B1D6B     0  218.77506  \n",
       "8   AR7G5I41187FB4CE6C  1982  233.40363  \n",
       "9   ARXR32B1187FB57099  2007  209.60608  \n",
       "10  ARKRRTF1187B9984DA     0  177.47546  "
      ]
     },
     "execution_count": 8,
     "metadata": {},
     "output_type": "execute_result"
    }
   ],
   "source": [
    "song_data = df[[\"song_id\", \"title\", \"artist_id\", \"year\", \"duration\"]]\n",
    "song_data"
   ]
  },
  {
   "cell_type": "markdown",
   "metadata": {
    "editable": true
   },
   "source": [
    "#### Insert Record into Song Table\n",
    "Implement the `song_table_insert` query in `sql_queries.py` and run the cell below to insert a record for this song into the `songs` table. Remember to run `create_tables.py` before running the cell below to ensure you've created/resetted the `songs` table in the sparkify database."
   ]
  },
  {
   "cell_type": "code",
   "execution_count": 9,
   "metadata": {
    "editable": true
   },
   "outputs": [],
   "source": [
    "#--- for single row insertion\n",
    "#cur.execute(song_table_insert, song_data)\n",
    "#conn.commit()"
   ]
  },
  {
   "cell_type": "code",
   "execution_count": 13,
   "metadata": {
    "editable": true
   },
   "outputs": [
    {
     "name": "stdout",
     "output_type": "stream",
     "text": [
      "row counts in songs_temp table before insertion is (22,)\n",
      "row counts in songs_temp table is (33,)\n",
      "row counts in songs table is (11,)\n"
     ]
    }
   ],
   "source": [
    "#----- Multi row insertion------#\n",
    "# 1. Write DataFrame into csv file\n",
    "song_data.to_csv('/home/workspace/data/song_data/song_data.csv', index=False, header=False)\n",
    "\n",
    "# 2. Create Temporary table\n",
    "cur.execute(temp_songs_table_create)\n",
    "# Test data\n",
    "cur.execute(\"select count(*) from songs_temp\")\n",
    "row = cur.fetchone()\n",
    "print(f'row counts in songs_temp table before insertion is {row}')\n",
    "\n",
    "# 3. Load data into temp file\n",
    "temp_file_path = '/home/workspace/data/song_data/song_data.csv'\n",
    "\n",
    "# 4. Insert data into temporary table\n",
    "cur.execute(song_temp_table_insert_)\n",
    "# check data in temp table\n",
    "cur.execute(\"select count(*) from songs_temp\")\n",
    "row = cur.fetchone()\n",
    "print(f'row counts in songs_temp table is {row}')\n",
    "\n",
    "# 5. insert data into songs table\n",
    "cur.execute(song_table_insert)\n",
    "\n",
    "# check data in temp table\n",
    "cur.execute(\"select count(*) from songs\")\n",
    "row = cur.fetchone()\n",
    "print(f'row counts in songs table is {row}')\n",
    "\n",
    "# 6. Delete temp file and temp table\n",
    "if os.path.exists(temp_file_path):\n",
    "    os.remove(temp_file_path)\n",
    "else:\n",
    "    print(\"The file does not exist\")\n",
    "    \n",
    "cur.execute(\"Drop Table songs_temp;\")\n",
    "conn.commit()"
   ]
  },
  {
   "cell_type": "markdown",
   "metadata": {
    "editable": true
   },
   "source": [
    "#### Testing"
   ]
  },
  {
   "cell_type": "code",
   "execution_count": 14,
   "metadata": {
    "editable": true
   },
   "outputs": [
    {
     "name": "stdout",
     "output_type": "stream",
     "text": [
      "('SOMZWCG12A8C13C480', \"I Didn't Mean To\", 'ARD7TVE1187B99BFB1', 0, Decimal('218.93179'))\n",
      "('SOUDSGM12AC9618304', 'Insatiable (Instrumental Version)', 'ARNTLGG11E2835DDB9', 0, Decimal('266.39628'))\n",
      "('SOIAZJW12AB01853F1', 'Pink World', 'AR8ZCNI1187B9A069B', 1984, Decimal('269.81832'))\n",
      "('SOHKNRJ12A6701D1F8', 'Drop of Rain', 'AR10USD1187B99F3F1', 0, Decimal('189.57016'))\n",
      "('SOCIWDW12A8C13D406', 'Soul Deep', 'ARMJAGH1187FB546F3', 1969, Decimal('148.03546'))\n",
      "('SOYMRWW12A6D4FAB14', 'The Moon And I (Ordinary Day Album Version)', 'ARKFYS91187B98E58F', 0, Decimal('267.7024'))\n",
      "('SOMJBYD12A6D4F8557', 'Keepin It Real (Skit)', 'ARD0S291187B9B7BF5', 0, Decimal('114.78159'))\n",
      "('SOQHXMF12AB0182363', 'Young Boy Blues', 'ARGSJW91187B9B1D6B', 0, Decimal('218.77506'))\n",
      "('SONHOTT12A8C13493C', 'Something Girls', 'AR7G5I41187FB4CE6C', 1982, Decimal('233.40363'))\n",
      "('SOFSOCN12A8C143F5D', 'Face the Ashes', 'ARXR32B1187FB57099', 2007, Decimal('209.60608'))\n",
      "('SOXVLOJ12AB0189215', 'Amor De Cabaret', 'ARKRRTF1187B9984DA', 0, Decimal('177.47546'))\n"
     ]
    }
   ],
   "source": [
    "query_song = \"SELECT * FROM songs\"\n",
    "try:\n",
    "    cur.execute(query_song)\n",
    "except psycopg2.Error as e:\n",
    "    print(e)\n",
    "    \n",
    "row = cur.fetchone()\n",
    "while row:\n",
    "    print(row)\n",
    "    row = cur.fetchone()"
   ]
  },
  {
   "cell_type": "markdown",
   "metadata": {
    "editable": true
   },
   "source": [
    "Pleasd also refer `test.ipynb` to see if successfully records are added to this table."
   ]
  },
  {
   "cell_type": "markdown",
   "metadata": {
    "editable": true
   },
   "source": [
    "## #2: `artists` Table\n",
    "#### Extract Data for Artists Table\n",
    "- Select columns for artist ID, name, location, latitude, and longitude\n",
    "- Use `df.values` to select just the values from the dataframe\n",
    "- Index to select the first (only) record in the dataframe\n",
    "- Convert the array to a list and set it to `artist_data`"
   ]
  },
  {
   "cell_type": "code",
   "execution_count": 15,
   "metadata": {
    "editable": true
   },
   "outputs": [],
   "source": [
    "# ---or a single row insertion\n",
    "# artist_data = df[[\"artist_id\", \"artist_name\", \"artist_location\", \"artist_latitude\", \"artist_longitude\"]].values[0]\n",
    "# artist_data = list(artist_data)"
   ]
  },
  {
   "cell_type": "code",
   "execution_count": 16,
   "metadata": {
    "editable": true
   },
   "outputs": [
    {
     "data": {
      "text/html": [
       "<div>\n",
       "<style scoped>\n",
       "    .dataframe tbody tr th:only-of-type {\n",
       "        vertical-align: middle;\n",
       "    }\n",
       "\n",
       "    .dataframe tbody tr th {\n",
       "        vertical-align: top;\n",
       "    }\n",
       "\n",
       "    .dataframe thead th {\n",
       "        text-align: right;\n",
       "    }\n",
       "</style>\n",
       "<table border=\"1\" class=\"dataframe\">\n",
       "  <thead>\n",
       "    <tr style=\"text-align: right;\">\n",
       "      <th></th>\n",
       "      <th>artist_id</th>\n",
       "      <th>artist_name</th>\n",
       "      <th>artist_location</th>\n",
       "      <th>artist_latitude</th>\n",
       "      <th>artist_longitude</th>\n",
       "    </tr>\n",
       "  </thead>\n",
       "  <tbody>\n",
       "    <tr>\n",
       "      <th>0</th>\n",
       "      <td>ARD7TVE1187B99BFB1</td>\n",
       "      <td>Casual</td>\n",
       "      <td>California - LA</td>\n",
       "      <td>NaN</td>\n",
       "      <td>NaN</td>\n",
       "    </tr>\n",
       "    <tr>\n",
       "      <th>1</th>\n",
       "      <td>ARNTLGG11E2835DDB9</td>\n",
       "      <td>Clp</td>\n",
       "      <td></td>\n",
       "      <td>NaN</td>\n",
       "      <td>NaN</td>\n",
       "    </tr>\n",
       "    <tr>\n",
       "      <th>2</th>\n",
       "      <td>AR8ZCNI1187B9A069B</td>\n",
       "      <td>Planet P Project</td>\n",
       "      <td></td>\n",
       "      <td>NaN</td>\n",
       "      <td>NaN</td>\n",
       "    </tr>\n",
       "    <tr>\n",
       "      <th>3</th>\n",
       "      <td>AR10USD1187B99F3F1</td>\n",
       "      <td>Tweeterfriendly Music</td>\n",
       "      <td>Burlington, Ontario, Canada</td>\n",
       "      <td>NaN</td>\n",
       "      <td>NaN</td>\n",
       "    </tr>\n",
       "    <tr>\n",
       "      <th>4</th>\n",
       "      <td>ARMJAGH1187FB546F3</td>\n",
       "      <td>The Box Tops</td>\n",
       "      <td>Memphis, TN</td>\n",
       "      <td>35.14968</td>\n",
       "      <td>-90.04892</td>\n",
       "    </tr>\n",
       "    <tr>\n",
       "      <th>5</th>\n",
       "      <td>ARKFYS91187B98E58F</td>\n",
       "      <td>Jeff And Sheri Easter</td>\n",
       "      <td></td>\n",
       "      <td>NaN</td>\n",
       "      <td>NaN</td>\n",
       "    </tr>\n",
       "    <tr>\n",
       "      <th>6</th>\n",
       "      <td>ARD0S291187B9B7BF5</td>\n",
       "      <td>Rated R</td>\n",
       "      <td>Ohio</td>\n",
       "      <td>NaN</td>\n",
       "      <td>NaN</td>\n",
       "    </tr>\n",
       "    <tr>\n",
       "      <th>7</th>\n",
       "      <td>ARGSJW91187B9B1D6B</td>\n",
       "      <td>JennyAnyKind</td>\n",
       "      <td>North Carolina</td>\n",
       "      <td>35.21962</td>\n",
       "      <td>-80.01955</td>\n",
       "    </tr>\n",
       "    <tr>\n",
       "      <th>8</th>\n",
       "      <td>AR7G5I41187FB4CE6C</td>\n",
       "      <td>Adam Ant</td>\n",
       "      <td>London, England</td>\n",
       "      <td>NaN</td>\n",
       "      <td>NaN</td>\n",
       "    </tr>\n",
       "    <tr>\n",
       "      <th>9</th>\n",
       "      <td>ARXR32B1187FB57099</td>\n",
       "      <td>Gob</td>\n",
       "      <td></td>\n",
       "      <td>NaN</td>\n",
       "      <td>NaN</td>\n",
       "    </tr>\n",
       "    <tr>\n",
       "      <th>10</th>\n",
       "      <td>ARKRRTF1187B9984DA</td>\n",
       "      <td>Sonora Santanera</td>\n",
       "      <td></td>\n",
       "      <td>NaN</td>\n",
       "      <td>NaN</td>\n",
       "    </tr>\n",
       "  </tbody>\n",
       "</table>\n",
       "</div>"
      ],
      "text/plain": [
       "             artist_id            artist_name              artist_location  \\\n",
       "0   ARD7TVE1187B99BFB1                 Casual              California - LA   \n",
       "1   ARNTLGG11E2835DDB9                    Clp                                \n",
       "2   AR8ZCNI1187B9A069B       Planet P Project                                \n",
       "3   AR10USD1187B99F3F1  Tweeterfriendly Music  Burlington, Ontario, Canada   \n",
       "4   ARMJAGH1187FB546F3           The Box Tops                  Memphis, TN   \n",
       "5   ARKFYS91187B98E58F  Jeff And Sheri Easter                                \n",
       "6   ARD0S291187B9B7BF5                Rated R                         Ohio   \n",
       "7   ARGSJW91187B9B1D6B           JennyAnyKind               North Carolina   \n",
       "8   AR7G5I41187FB4CE6C               Adam Ant              London, England   \n",
       "9   ARXR32B1187FB57099                    Gob                                \n",
       "10  ARKRRTF1187B9984DA       Sonora Santanera                                \n",
       "\n",
       "    artist_latitude  artist_longitude  \n",
       "0               NaN               NaN  \n",
       "1               NaN               NaN  \n",
       "2               NaN               NaN  \n",
       "3               NaN               NaN  \n",
       "4          35.14968         -90.04892  \n",
       "5               NaN               NaN  \n",
       "6               NaN               NaN  \n",
       "7          35.21962         -80.01955  \n",
       "8               NaN               NaN  \n",
       "9               NaN               NaN  \n",
       "10              NaN               NaN  "
      ]
     },
     "execution_count": 16,
     "metadata": {},
     "output_type": "execute_result"
    }
   ],
   "source": [
    "artists_data = df[[\"artist_id\", \"artist_name\", \"artist_location\", \"artist_latitude\", \"artist_longitude\"]]\n",
    "artists_data"
   ]
  },
  {
   "cell_type": "markdown",
   "metadata": {
    "editable": true
   },
   "source": [
    "#### Insert Record into Artist Table\n",
    "Implement the `artist_table_insert` query in `sql_queries.py` and run the cell below to insert a record for this song's artist into the `artists` table. Remember to run `create_tables.py` before running the cell below to ensure you've created/resetted the `artists` table in the sparkify database."
   ]
  },
  {
   "cell_type": "code",
   "execution_count": 17,
   "metadata": {
    "editable": true
   },
   "outputs": [
    {
     "name": "stdout",
     "output_type": "stream",
     "text": [
      "row counts in artists_temp table before insertion is (0,)\n",
      "row counts in artists_temp table is (11,)\n",
      "row counts in artists table is (11,)\n"
     ]
    }
   ],
   "source": [
    "#----- Multi row insertion------#\n",
    "# 1. Write DataFrame into csv file\n",
    "artists_data.to_csv('/home/workspace/data/song_data/artists_data.csv', index=False, header=False)\n",
    "\n",
    "# 2. Create Temporary table\n",
    "cur.execute(temp_artists_table_create)\n",
    "# Test data\n",
    "cur.execute(\"select count(*) from artists_temp\")\n",
    "row = cur.fetchone()\n",
    "print(f'row counts in artists_temp table before insertion is {row}')\n",
    "\n",
    "# 3. Load data into temp file\n",
    "temp_file_path = '/home/workspace/data/song_data/artists_data.csv'\n",
    "\n",
    "\n",
    "# 4. Insert data into temporary table\n",
    "cur.execute(artists_temp_table_insert_)\n",
    "\n",
    "# check data in temp table\n",
    "cur.execute(\"select count(*) from artists_temp\")\n",
    "row = cur.fetchone()\n",
    "print(f'row counts in artists_temp table is {row}')\n",
    "\n",
    "# 5. insert data into artists table\n",
    "cur.execute(artist_table_insert)\n",
    "\n",
    "# check data in artists table\n",
    "cur.execute(\"select count(*) from artists\")\n",
    "row = cur.fetchone()\n",
    "print(f'row counts in artists table is {row}')\n",
    "\n",
    "# 6. Delete temp file and temp table\n",
    "if os.path.exists(temp_file_path):\n",
    "    os.remove(temp_file_path)\n",
    "else:\n",
    "    print(\"The file does not exist\")\n",
    "     \n",
    "cur.execute(\"Drop Table artists_temp;\")\n",
    "conn.commit()"
   ]
  },
  {
   "cell_type": "markdown",
   "metadata": {
    "editable": true
   },
   "source": [
    "## Testing and data quality check\n",
    "### Data quality check:\n",
    "1. Nulls are handeled properly. Below is the image of with PGadmin\n",
    "![Image](./images/Data_check_1.png)"
   ]
  },
  {
   "cell_type": "code",
   "execution_count": 20,
   "metadata": {
    "editable": true
   },
   "outputs": [
    {
     "name": "stdout",
     "output_type": "stream",
     "text": [
      "('ARD7TVE1187B99BFB1', 'Casual', 'California - LA', None, None)\n",
      "('ARNTLGG11E2835DDB9', 'Clp', None, None, None)\n",
      "('AR8ZCNI1187B9A069B', 'Planet P Project', None, None, None)\n",
      "('AR10USD1187B99F3F1', 'Tweeterfriendly Music', 'Burlington, Ontario, Canada', None, None)\n",
      "('ARMJAGH1187FB546F3', 'The Box Tops', 'Memphis, TN', 35.14968, -90.04892)\n",
      "('ARKFYS91187B98E58F', 'Jeff And Sheri Easter', None, None, None)\n",
      "('ARD0S291187B9B7BF5', 'Rated R', 'Ohio', None, None)\n",
      "('ARGSJW91187B9B1D6B', 'JennyAnyKind', 'North Carolina', 35.21962, -80.01955)\n",
      "('AR7G5I41187FB4CE6C', 'Adam Ant', 'London, England', None, None)\n",
      "('ARXR32B1187FB57099', 'Gob', None, None, None)\n",
      "('ARKRRTF1187B9984DA', 'Sonora Santanera', None, None, None)\n"
     ]
    }
   ],
   "source": [
    "query_artists = \"SELECT * FROM artists\"\n",
    "try:\n",
    "    cur.execute(query_artists)\n",
    "except psycopg2.Error as e:\n",
    "    print(e)\n",
    "    \n",
    "row = cur.fetchone()\n",
    "while row:\n",
    "    print(row)\n",
    "    row = cur.fetchone()"
   ]
  },
  {
   "cell_type": "markdown",
   "metadata": {
    "editable": true
   },
   "source": [
    "Please also Refer `test.ipynb` to see if successfully added records to this table."
   ]
  },
  {
   "cell_type": "markdown",
   "metadata": {
    "editable": true
   },
   "source": [
    "# Process `log_data`\n",
    "In this part, you'll perform ETL on the second dataset, `log_data`, to create the `time` and `users` dimensional tables, as well as the `songplays` fact table.\n",
    "\n",
    "Let's perform ETL on a single log file and load a single record into each table.\n",
    "- Use the `get_files` function provided above to get a list of all log JSON files in `data/log_data`\n",
    "- Select the first log file in this list\n",
    "- Read the log file and view the data"
   ]
  },
  {
   "cell_type": "code",
   "execution_count": 21,
   "metadata": {
    "editable": true
   },
   "outputs": [],
   "source": [
    "# get a list of all log JSON files in data/log_data\n",
    "log_files = get_files(\"data/log_data/\")"
   ]
  },
  {
   "cell_type": "code",
   "execution_count": 22,
   "metadata": {
    "editable": true
   },
   "outputs": [],
   "source": [
    "filepath = log_files[0]"
   ]
  },
  {
   "cell_type": "code",
   "execution_count": 23,
   "metadata": {
    "editable": true
   },
   "outputs": [],
   "source": [
    "df = pd.read_json(filepath, lines=True)"
   ]
  },
  {
   "cell_type": "markdown",
   "metadata": {
    "editable": true
   },
   "source": [
    "## #3: `time` Table\n",
    "#### Extract Data for Time Table\n",
    "- Filter records by `NextSong` action\n",
    "- Convert the `ts` timestamp column to datetime\n",
    "  - Hint: the current timestamp is in milliseconds\n",
    "- Extract the timestamp, hour, day, week of year, month, year, and weekday from the `ts` column and set `time_data` to a list containing these values in order\n",
    "  - Hint: use pandas' [`dt` attribute](https://pandas.pydata.org/pandas-docs/stable/reference/api/pandas.Series.dt.html) to access easily datetimelike properties.\n",
    "- Specify labels for these columns and set to `column_labels`\n",
    "- Create a dataframe, `time_df,` containing the time data for this file by combining `column_labels` and `time_data` into a dictionary and converting this into a dataframe"
   ]
  },
  {
   "cell_type": "code",
   "execution_count": 24,
   "metadata": {
    "editable": true
   },
   "outputs": [],
   "source": [
    "# Filter records by NextSong action\n",
    "df_ = df[df['page'] == 'NextSong']"
   ]
  },
  {
   "cell_type": "code",
   "execution_count": 25,
   "metadata": {
    "editable": true
   },
   "outputs": [],
   "source": [
    "# Convert the ts timestamp column to datetime\n",
    "t = pd.to_datetime(df_[\"ts\"], unit = \"ms\")\n",
    "timestamp_ = list(df_[\"ts\"])\n",
    "hour_ = list(t.dt.hour)\n",
    "day_ = list(t.dt.day) \n",
    "week_ = list(t.dt.week) \n",
    "month_ = list(t.dt.month) \n",
    "year_ = list(t.dt.year)\n",
    "weekday_ = list(t.dt.weekday) \n",
    "time_data = [timestamp_, hour_, day_, week_, month_, year_, weekday_]\n",
    "column_labels = ['start_time', 'hour', 'day', 'week', 'month', 'year', 'weekday']"
   ]
  },
  {
   "cell_type": "code",
   "execution_count": 26,
   "metadata": {
    "editable": true
   },
   "outputs": [
    {
     "data": {
      "text/html": [
       "<div>\n",
       "<style scoped>\n",
       "    .dataframe tbody tr th:only-of-type {\n",
       "        vertical-align: middle;\n",
       "    }\n",
       "\n",
       "    .dataframe tbody tr th {\n",
       "        vertical-align: top;\n",
       "    }\n",
       "\n",
       "    .dataframe thead th {\n",
       "        text-align: right;\n",
       "    }\n",
       "</style>\n",
       "<table border=\"1\" class=\"dataframe\">\n",
       "  <thead>\n",
       "    <tr style=\"text-align: right;\">\n",
       "      <th></th>\n",
       "      <th>start_time</th>\n",
       "      <th>hour</th>\n",
       "      <th>day</th>\n",
       "      <th>week</th>\n",
       "      <th>month</th>\n",
       "      <th>year</th>\n",
       "      <th>weekday</th>\n",
       "    </tr>\n",
       "  </thead>\n",
       "  <tbody>\n",
       "    <tr>\n",
       "      <th>0</th>\n",
       "      <td>1543537327796</td>\n",
       "      <td>0</td>\n",
       "      <td>30</td>\n",
       "      <td>48</td>\n",
       "      <td>11</td>\n",
       "      <td>2018</td>\n",
       "      <td>4</td>\n",
       "    </tr>\n",
       "    <tr>\n",
       "      <th>1</th>\n",
       "      <td>1543540121796</td>\n",
       "      <td>1</td>\n",
       "      <td>30</td>\n",
       "      <td>48</td>\n",
       "      <td>11</td>\n",
       "      <td>2018</td>\n",
       "      <td>4</td>\n",
       "    </tr>\n",
       "    <tr>\n",
       "      <th>2</th>\n",
       "      <td>1543540368796</td>\n",
       "      <td>1</td>\n",
       "      <td>30</td>\n",
       "      <td>48</td>\n",
       "      <td>11</td>\n",
       "      <td>2018</td>\n",
       "      <td>4</td>\n",
       "    </tr>\n",
       "    <tr>\n",
       "      <th>3</th>\n",
       "      <td>1543540625796</td>\n",
       "      <td>1</td>\n",
       "      <td>30</td>\n",
       "      <td>48</td>\n",
       "      <td>11</td>\n",
       "      <td>2018</td>\n",
       "      <td>4</td>\n",
       "    </tr>\n",
       "    <tr>\n",
       "      <th>4</th>\n",
       "      <td>1543540856796</td>\n",
       "      <td>1</td>\n",
       "      <td>30</td>\n",
       "      <td>48</td>\n",
       "      <td>11</td>\n",
       "      <td>2018</td>\n",
       "      <td>4</td>\n",
       "    </tr>\n",
       "  </tbody>\n",
       "</table>\n",
       "</div>"
      ],
      "text/plain": [
       "      start_time  hour  day  week  month  year  weekday\n",
       "0  1543537327796     0   30    48     11  2018        4\n",
       "1  1543540121796     1   30    48     11  2018        4\n",
       "2  1543540368796     1   30    48     11  2018        4\n",
       "3  1543540625796     1   30    48     11  2018        4\n",
       "4  1543540856796     1   30    48     11  2018        4"
      ]
     },
     "execution_count": 26,
     "metadata": {},
     "output_type": "execute_result"
    }
   ],
   "source": [
    "time_dict = {label :time_data[i]  for i, label in enumerate(column_labels)}\n",
    "time_df = pd.DataFrame(time_dict)\n",
    "time_df.head()"
   ]
  },
  {
   "cell_type": "markdown",
   "metadata": {
    "editable": true
   },
   "source": [
    "#### Insert Records into Time Table\n",
    "Implement the `time_table_insert` query in `sql_queries.py` and run the cell below to insert records for the timestamps in this log file into the `time` table. Remember to run `create_tables.py` before running the cell below to ensure you've created/resetted the `time` table in the sparkify database."
   ]
  },
  {
   "cell_type": "code",
   "execution_count": 27,
   "metadata": {
    "editable": true
   },
   "outputs": [],
   "source": [
    "#---  single row insertion\n",
    "#for i, row in time_df.iterrows():\n",
    "#    cur.execute(time_table_insert, list(row))\n",
    "#    conn.commit()"
   ]
  },
  {
   "cell_type": "code",
   "execution_count": 28,
   "metadata": {
    "editable": true
   },
   "outputs": [
    {
     "name": "stdout",
     "output_type": "stream",
     "text": [
      "row counts in time_temp table before insertion is (0,)\n"
     ]
    }
   ],
   "source": [
    "#----- Multi row insertion------#\n",
    "\n",
    "# 1. Write DataFrame into csv file\n",
    "time_df.to_csv('/home/workspace/data/log_data/time_data.csv', index=False, header=False)\n",
    "\n",
    "# 2. Create Temporary table\n",
    "cur.execute(temp_time_table_create)\n",
    "# Test data\n",
    "cur.execute(\"select count(*) from time_temp\")\n",
    "row = cur.fetchone()\n",
    "print(f'row counts in time_temp table before insertion is {row}')"
   ]
  },
  {
   "cell_type": "code",
   "execution_count": 29,
   "metadata": {
    "editable": true
   },
   "outputs": [],
   "source": [
    "# 2. Load data into time table\n",
    "temp_file_path = '/home/workspace/data/time_data/time_data.csv'"
   ]
  },
  {
   "cell_type": "code",
   "execution_count": 31,
   "metadata": {
    "editable": true
   },
   "outputs": [],
   "source": [
    "# 3. insert data into time temp table\n",
    "cur.execute(time_temp_table_insert)"
   ]
  },
  {
   "cell_type": "code",
   "execution_count": 32,
   "metadata": {
    "editable": true
   },
   "outputs": [],
   "source": [
    "# 4. insert data into time table\n",
    "cur.execute(time_table_insert)"
   ]
  },
  {
   "cell_type": "code",
   "execution_count": 45,
   "metadata": {
    "editable": true
   },
   "outputs": [],
   "source": [
    "conn.commit()"
   ]
  },
  {
   "cell_type": "markdown",
   "metadata": {
    "editable": true
   },
   "source": [
    "#### Testing & data check"
   ]
  },
  {
   "cell_type": "code",
   "execution_count": 33,
   "metadata": {
    "editable": true
   },
   "outputs": [
    {
     "name": "stdout",
     "output_type": "stream",
     "text": [
      "row counts in time table is (330,)\n",
      "True\n"
     ]
    }
   ],
   "source": [
    "query_time = \"SELECT count(*) FROM time\"\n",
    "\n",
    "# check data in time table\n",
    "cur.execute(query_time)\n",
    "row = cur.fetchone()\n",
    "print(f'row counts in time table is {row}')\n",
    "\n",
    "try:\n",
    "    cur.execute(query_time)\n",
    "except psycopg2.Error as e:\n",
    "    print(e)\n",
    "row = cur.fetchone()\n",
    "\n",
    "# to check same number of distinct rows in Dataframe and Table\n",
    "print(row[0] == time_df[\"start_time\"].nunique())"
   ]
  },
  {
   "cell_type": "code",
   "execution_count": 34,
   "metadata": {
    "editable": true
   },
   "outputs": [
    {
     "name": "stdout",
     "output_type": "stream",
     "text": [
      "(datetime.datetime(2018, 11, 30, 0, 22, 7), 0, 30, 48, 11, 2018, 4)\n",
      "(datetime.datetime(2018, 11, 30, 1, 8, 41), 1, 30, 48, 11, 2018, 4)\n",
      "(datetime.datetime(2018, 11, 30, 1, 12, 48), 1, 30, 48, 11, 2018, 4)\n",
      "(datetime.datetime(2018, 11, 30, 1, 17, 5), 1, 30, 48, 11, 2018, 4)\n",
      "(datetime.datetime(2018, 11, 30, 1, 20, 56), 1, 30, 48, 11, 2018, 4)\n"
     ]
    }
   ],
   "source": [
    "# to check first five data\n",
    "try:\n",
    "    cur.execute('SELECT * from time')\n",
    "except psycopg2.Error as e:\n",
    "    print(e)\n",
    "for i in range(5):\n",
    "    row = cur.fetchone()\n",
    "    print(row)"
   ]
  },
  {
   "cell_type": "markdown",
   "metadata": {
    "editable": true
   },
   "source": [
    "Please also Refer `test.ipynb` to see if successfully added records to this table."
   ]
  },
  {
   "cell_type": "markdown",
   "metadata": {
    "editable": true
   },
   "source": [
    "## #4: `users` Table\n",
    "#### Extract Data for Users Table\n",
    "- Select columns for user ID, first name, last name, gender and level and set to `user_df`"
   ]
  },
  {
   "cell_type": "code",
   "execution_count": 35,
   "metadata": {
    "editable": true
   },
   "outputs": [
    {
     "data": {
      "text/html": [
       "<div>\n",
       "<style scoped>\n",
       "    .dataframe tbody tr th:only-of-type {\n",
       "        vertical-align: middle;\n",
       "    }\n",
       "\n",
       "    .dataframe tbody tr th {\n",
       "        vertical-align: top;\n",
       "    }\n",
       "\n",
       "    .dataframe thead th {\n",
       "        text-align: right;\n",
       "    }\n",
       "</style>\n",
       "<table border=\"1\" class=\"dataframe\">\n",
       "  <thead>\n",
       "    <tr style=\"text-align: right;\">\n",
       "      <th></th>\n",
       "      <th>userId</th>\n",
       "      <th>firstName</th>\n",
       "      <th>lastName</th>\n",
       "      <th>gender</th>\n",
       "      <th>level</th>\n",
       "    </tr>\n",
       "  </thead>\n",
       "  <tbody>\n",
       "    <tr>\n",
       "      <th>0</th>\n",
       "      <td>91</td>\n",
       "      <td>Jayden</td>\n",
       "      <td>Bell</td>\n",
       "      <td>M</td>\n",
       "      <td>free</td>\n",
       "    </tr>\n",
       "    <tr>\n",
       "      <th>1</th>\n",
       "      <td>73</td>\n",
       "      <td>Jacob</td>\n",
       "      <td>Klein</td>\n",
       "      <td>M</td>\n",
       "      <td>paid</td>\n",
       "    </tr>\n",
       "    <tr>\n",
       "      <th>2</th>\n",
       "      <td>73</td>\n",
       "      <td>Jacob</td>\n",
       "      <td>Klein</td>\n",
       "      <td>M</td>\n",
       "      <td>paid</td>\n",
       "    </tr>\n",
       "    <tr>\n",
       "      <th>3</th>\n",
       "      <td>73</td>\n",
       "      <td>Jacob</td>\n",
       "      <td>Klein</td>\n",
       "      <td>M</td>\n",
       "      <td>paid</td>\n",
       "    </tr>\n",
       "    <tr>\n",
       "      <th>4</th>\n",
       "      <td>73</td>\n",
       "      <td>Jacob</td>\n",
       "      <td>Klein</td>\n",
       "      <td>M</td>\n",
       "      <td>paid</td>\n",
       "    </tr>\n",
       "  </tbody>\n",
       "</table>\n",
       "</div>"
      ],
      "text/plain": [
       "  userId firstName lastName gender level\n",
       "0     91    Jayden     Bell      M  free\n",
       "1     73     Jacob    Klein      M  paid\n",
       "2     73     Jacob    Klein      M  paid\n",
       "3     73     Jacob    Klein      M  paid\n",
       "4     73     Jacob    Klein      M  paid"
      ]
     },
     "execution_count": 35,
     "metadata": {},
     "output_type": "execute_result"
    }
   ],
   "source": [
    "user_df_cols = [\"userId\", \"firstName\", \"lastName\", \"gender\", \"level\"]\n",
    "user_df = df_.loc[:, user_df_cols]\n",
    "user_df.head()"
   ]
  },
  {
   "cell_type": "markdown",
   "metadata": {
    "editable": true
   },
   "source": [
    "#### Insert Records into Users Table\n",
    "Implement the `user_table_insert` query in `sql_queries.py` and run the cell below to insert records for the users in this log file into the `users` table. Remember to run `create_tables.py` before running the cell below to ensure you've created/resetted the `users` table in the sparkify database."
   ]
  },
  {
   "cell_type": "code",
   "execution_count": 36,
   "metadata": {
    "editable": true
   },
   "outputs": [],
   "source": [
    "# --single row insertion\n",
    "#for i, row in user_df.iterrows():\n",
    "#    cur.execute(user_table_insert, list(row))\n",
    "#    conn.commit()"
   ]
  },
  {
   "cell_type": "code",
   "execution_count": 37,
   "metadata": {
    "editable": true
   },
   "outputs": [],
   "source": [
    "# ---- multi row insertion\n",
    "# 1. Write DataFrame into csv file\n",
    "user_df.to_csv('/home/workspace/data/log_data/users_data.csv', index=False, header=False)\n",
    "\n",
    "# 2. Create temporary table\n",
    "cur.execute(temp_users_table_create)"
   ]
  },
  {
   "cell_type": "code",
   "execution_count": 38,
   "metadata": {
    "editable": true
   },
   "outputs": [
    {
     "name": "stdout",
     "output_type": "stream",
     "text": [
      "(330,)\n"
     ]
    }
   ],
   "source": [
    "# 3. users_temp table check\n",
    "cur.execute(users_temp_table_insert)\n",
    "cur.execute(\"select count(*) from users_temp\")\n",
    "row = cur.fetchone()\n",
    "print(row)"
   ]
  },
  {
   "cell_type": "code",
   "execution_count": 40,
   "metadata": {
    "editable": true
   },
   "outputs": [],
   "source": [
    "# 4. insert into users table\n",
    "cur.execute(user_table_insert)"
   ]
  },
  {
   "cell_type": "code",
   "execution_count": 44,
   "metadata": {
    "editable": true
   },
   "outputs": [],
   "source": [
    "conn.commit()"
   ]
  },
  {
   "cell_type": "code",
   "execution_count": 41,
   "metadata": {
    "editable": true
   },
   "outputs": [
    {
     "name": "stdout",
     "output_type": "stream",
     "text": [
      "(22,)\n"
     ]
    }
   ],
   "source": [
    "# 5. users table check\n",
    "cur.execute(\"select count(*) from users\")\n",
    "row = cur.fetchone()\n",
    "print(row)"
   ]
  },
  {
   "cell_type": "markdown",
   "metadata": {
    "editable": true
   },
   "source": [
    "#### Data Check and Testing"
   ]
  },
  {
   "cell_type": "code",
   "execution_count": 42,
   "metadata": {
    "editable": true
   },
   "outputs": [
    {
     "name": "stdout",
     "output_type": "stream",
     "text": [
      "True\n"
     ]
    }
   ],
   "source": [
    "query_users = \"SELECT count(*) FROM users\"\n",
    "try:\n",
    "    cur.execute(query_users)\n",
    "except psycopg2.Error as e:\n",
    "    print(e)\n",
    "row = cur.fetchone()\n",
    "\n",
    "# to check same number of distinct rows\n",
    "print(row[0] == user_df[\"userId\"].nunique())"
   ]
  },
  {
   "cell_type": "code",
   "execution_count": 43,
   "metadata": {
    "editable": true
   },
   "outputs": [
    {
     "name": "stdout",
     "output_type": "stream",
     "text": [
      "(91, 'Jayden', 'Bell', 'M', 'free')\n",
      "(73, 'Jacob', 'Klein', 'M', 'paid')\n",
      "(86, 'Aiden', 'Hess', 'M', 'free')\n",
      "(24, 'Layla', 'Griffin', 'F', 'paid')\n",
      "(26, 'Ryan', 'Smith', 'M', 'free')\n"
     ]
    }
   ],
   "source": [
    "# to check first five data\n",
    "try:\n",
    "    cur.execute('SELECT * from users')\n",
    "except psycopg2.Error as e:\n",
    "    print(e)\n",
    "for i in range(5):\n",
    "    row = cur.fetchone()\n",
    "    print(row)"
   ]
  },
  {
   "cell_type": "markdown",
   "metadata": {
    "editable": true
   },
   "source": [
    "Please also Refer `test.ipynb` to see if successfully added records to this table."
   ]
  },
  {
   "cell_type": "markdown",
   "metadata": {
    "editable": true
   },
   "source": [
    "## #5: `songplays` Table\n",
    "#### Extract Data and Songplays Table\n",
    "This one is a little more complicated since information from the songs table, artists table, and original log file are all needed for the `songplays` table. Since the log file does not specify an ID for either the song or the artist, you'll need to get the song ID and artist ID by querying the songs and artists tables to find matches based on song title, artist name, and song duration time.\n",
    "- Implement the `song_select` query in `sql_queries.py` to find the song ID and artist ID based on the title, artist name, and duration of a song.\n",
    "- Select the timestamp, user ID, level, song ID, artist ID, session ID, location, and user agent and set to `songplay_data`\n",
    "\n",
    "#### Insert Records into Songplays Table\n",
    "- Implement the `songplay_table_insert` query and run the cell below to insert records for the songplay actions in this log file into the `songplays` table. Remember to run `create_tables.py` before running the cell below to ensure you've created/resetted the `songplays` table in the sparkify database."
   ]
  },
  {
   "cell_type": "code",
   "execution_count": 61,
   "metadata": {
    "editable": true
   },
   "outputs": [],
   "source": [
    "for index, row in df_.iterrows():\n",
    "    # get songid and artistid from song and artist tables\n",
    "    cur.execute(song_select, (row.song, row.artist, row.length))\n",
    "    results = cur.fetchone()\n",
    "\n",
    "    if results:\n",
    "        songid, artistid = results\n",
    "    else:\n",
    "        songid, artistid = None, None\n",
    "\n",
    "    # insert songplay record\n",
    "    songplay_data = [row.ts, row.userId, row.level, songid, artistid, row.sessionId, row.location, row.userAgent]\n",
    "    cur.execute(songplay_table_insert, songplay_data)\n",
    "    conn.commit()"
   ]
  },
  {
   "cell_type": "markdown",
   "metadata": {
    "editable": true
   },
   "source": [
    "### Test and data check"
   ]
  },
  {
   "cell_type": "code",
   "execution_count": null,
   "metadata": {
    "editable": true
   },
   "outputs": [],
   "source": [
    "# to check first five data\n",
    "try:\n",
    "    cur.execute('SELECT * from songplays')\n",
    "except psycopg2.Error as e:\n",
    "    print(e)\n",
    "for i in range(5):\n",
    "    row = cur.fetchone()\n",
    "    print(row)"
   ]
  },
  {
   "cell_type": "markdown",
   "metadata": {
    "editable": true
   },
   "source": [
    "Please also refer `test.ipynb` to see if successfully added records to this table. `test.ipynb` to see if successfully added records to the table."
   ]
  },
  {
   "cell_type": "markdown",
   "metadata": {
    "editable": true
   },
   "source": [
    "# Close Connection to Sparkify Database"
   ]
  },
  {
   "cell_type": "code",
   "execution_count": 25,
   "metadata": {
    "editable": true
   },
   "outputs": [],
   "source": [
    "conn.close()"
   ]
  },
  {
   "cell_type": "markdown",
   "metadata": {
    "editable": true
   },
   "source": [
    "# Implement `etl.py`"
   ]
  },
  {
   "cell_type": "markdown",
   "metadata": {
    "editable": true
   },
   "source": [
    "We see that we have successfully inserted data into all tables of our data model. Now we implement it into etl.py"
   ]
  },
  {
   "cell_type": "code",
   "execution_count": null,
   "metadata": {
    "editable": true
   },
   "outputs": [],
   "source": []
  }
 ],
 "metadata": {
  "kernelspec": {
   "display_name": "Python 3",
   "language": "python",
   "name": "python3"
  },
  "language_info": {
   "codemirror_mode": {
    "name": "ipython",
    "version": 3
   },
   "file_extension": ".py",
   "mimetype": "text/x-python",
   "name": "python",
   "nbconvert_exporter": "python",
   "pygments_lexer": "ipython3",
   "version": "3.6.3"
  }
 },
 "nbformat": 4,
 "nbformat_minor": 4
}
