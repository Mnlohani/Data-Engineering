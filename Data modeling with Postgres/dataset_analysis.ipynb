{
 "cells": [
  {
   "cell_type": "code",
   "execution_count": 1,
   "metadata": {
    "editable": true
   },
   "outputs": [],
   "source": [
    "import pandas as pd\n",
    "import numpy as np\n",
    "import os, glob"
   ]
  },
  {
   "cell_type": "code",
   "execution_count": 2,
   "metadata": {
    "editable": true
   },
   "outputs": [],
   "source": [
    "def process_data(filepath):\n",
    "    \"\"\"iterate over all files in a path\n",
    "    \n",
    "    Parameters:\n",
    "    ----------- \n",
    "    filepath: path of the .json files of which \n",
    "              data to be inserted into table\n",
    "    \"\"\"\n",
    "    \n",
    "    # get all files matching extension from directory \n",
    "    all_files = []\n",
    "    for root, dirs, files in os.walk(filepath):\n",
    "        files = glob.glob(os.path.join(root,'*.json'))\n",
    "        for f in files :\n",
    "            all_files.append(os.path.abspath(f))\n",
    "    \n",
    "    # get total number of files found\n",
    "    num_files = len(all_files)\n",
    "    print('{} files found in {}'.format(num_files, filepath))  \n",
    "    return all_files"
   ]
  },
  {
   "cell_type": "markdown",
   "metadata": {
    "editable": true
   },
   "source": [
    "## Analysis of song_data dataset"
   ]
  },
  {
   "cell_type": "code",
   "execution_count": 20,
   "metadata": {
    "editable": true
   },
   "outputs": [
    {
     "name": "stdout",
     "output_type": "stream",
     "text": [
      "11 files found in data/song_data/A/A/A\n"
     ]
    }
   ],
   "source": [
    "file_names = process_data(\"data/song_data/A/A/A\")"
   ]
  },
  {
   "cell_type": "code",
   "execution_count": 21,
   "metadata": {
    "editable": true
   },
   "outputs": [],
   "source": [
    "df = pd.DataFrame()\n",
    "for each in file_names:\n",
    "    df = df.append(pd.read_json(each, lines=True), ignore_index=True)"
   ]
  },
  {
   "cell_type": "code",
   "execution_count": 22,
   "metadata": {
    "editable": true
   },
   "outputs": [
    {
     "data": {
      "text/html": [
       "<div>\n",
       "<style scoped>\n",
       "    .dataframe tbody tr th:only-of-type {\n",
       "        vertical-align: middle;\n",
       "    }\n",
       "\n",
       "    .dataframe tbody tr th {\n",
       "        vertical-align: top;\n",
       "    }\n",
       "\n",
       "    .dataframe thead th {\n",
       "        text-align: right;\n",
       "    }\n",
       "</style>\n",
       "<table border=\"1\" class=\"dataframe\">\n",
       "  <thead>\n",
       "    <tr style=\"text-align: right;\">\n",
       "      <th></th>\n",
       "      <th>artist_id</th>\n",
       "      <th>artist_latitude</th>\n",
       "      <th>artist_location</th>\n",
       "      <th>artist_longitude</th>\n",
       "      <th>artist_name</th>\n",
       "      <th>duration</th>\n",
       "      <th>num_songs</th>\n",
       "      <th>song_id</th>\n",
       "      <th>title</th>\n",
       "      <th>year</th>\n",
       "    </tr>\n",
       "  </thead>\n",
       "  <tbody>\n",
       "    <tr>\n",
       "      <th>0</th>\n",
       "      <td>ARD7TVE1187B99BFB1</td>\n",
       "      <td>NaN</td>\n",
       "      <td>California - LA</td>\n",
       "      <td>NaN</td>\n",
       "      <td>Casual</td>\n",
       "      <td>218.93179</td>\n",
       "      <td>1</td>\n",
       "      <td>SOMZWCG12A8C13C480</td>\n",
       "      <td>I Didn't Mean To</td>\n",
       "      <td>0</td>\n",
       "    </tr>\n",
       "    <tr>\n",
       "      <th>1</th>\n",
       "      <td>ARNTLGG11E2835DDB9</td>\n",
       "      <td>NaN</td>\n",
       "      <td></td>\n",
       "      <td>NaN</td>\n",
       "      <td>Clp</td>\n",
       "      <td>266.39628</td>\n",
       "      <td>1</td>\n",
       "      <td>SOUDSGM12AC9618304</td>\n",
       "      <td>Insatiable (Instrumental Version)</td>\n",
       "      <td>0</td>\n",
       "    </tr>\n",
       "    <tr>\n",
       "      <th>2</th>\n",
       "      <td>AR8ZCNI1187B9A069B</td>\n",
       "      <td>NaN</td>\n",
       "      <td></td>\n",
       "      <td>NaN</td>\n",
       "      <td>Planet P Project</td>\n",
       "      <td>269.81832</td>\n",
       "      <td>1</td>\n",
       "      <td>SOIAZJW12AB01853F1</td>\n",
       "      <td>Pink World</td>\n",
       "      <td>1984</td>\n",
       "    </tr>\n",
       "    <tr>\n",
       "      <th>3</th>\n",
       "      <td>AR10USD1187B99F3F1</td>\n",
       "      <td>NaN</td>\n",
       "      <td>Burlington, Ontario, Canada</td>\n",
       "      <td>NaN</td>\n",
       "      <td>Tweeterfriendly Music</td>\n",
       "      <td>189.57016</td>\n",
       "      <td>1</td>\n",
       "      <td>SOHKNRJ12A6701D1F8</td>\n",
       "      <td>Drop of Rain</td>\n",
       "      <td>0</td>\n",
       "    </tr>\n",
       "    <tr>\n",
       "      <th>4</th>\n",
       "      <td>ARMJAGH1187FB546F3</td>\n",
       "      <td>35.14968</td>\n",
       "      <td>Memphis, TN</td>\n",
       "      <td>-90.04892</td>\n",
       "      <td>The Box Tops</td>\n",
       "      <td>148.03546</td>\n",
       "      <td>1</td>\n",
       "      <td>SOCIWDW12A8C13D406</td>\n",
       "      <td>Soul Deep</td>\n",
       "      <td>1969</td>\n",
       "    </tr>\n",
       "  </tbody>\n",
       "</table>\n",
       "</div>"
      ],
      "text/plain": [
       "            artist_id  artist_latitude              artist_location  \\\n",
       "0  ARD7TVE1187B99BFB1              NaN              California - LA   \n",
       "1  ARNTLGG11E2835DDB9              NaN                                \n",
       "2  AR8ZCNI1187B9A069B              NaN                                \n",
       "3  AR10USD1187B99F3F1              NaN  Burlington, Ontario, Canada   \n",
       "4  ARMJAGH1187FB546F3         35.14968                  Memphis, TN   \n",
       "\n",
       "   artist_longitude            artist_name   duration  num_songs  \\\n",
       "0               NaN                 Casual  218.93179          1   \n",
       "1               NaN                    Clp  266.39628          1   \n",
       "2               NaN       Planet P Project  269.81832          1   \n",
       "3               NaN  Tweeterfriendly Music  189.57016          1   \n",
       "4         -90.04892           The Box Tops  148.03546          1   \n",
       "\n",
       "              song_id                              title  year  \n",
       "0  SOMZWCG12A8C13C480                   I Didn't Mean To     0  \n",
       "1  SOUDSGM12AC9618304  Insatiable (Instrumental Version)     0  \n",
       "2  SOIAZJW12AB01853F1                         Pink World  1984  \n",
       "3  SOHKNRJ12A6701D1F8                       Drop of Rain     0  \n",
       "4  SOCIWDW12A8C13D406                          Soul Deep  1969  "
      ]
     },
     "execution_count": 22,
     "metadata": {},
     "output_type": "execute_result"
    }
   ],
   "source": [
    "df.head()"
   ]
  },
  {
   "cell_type": "code",
   "execution_count": 23,
   "metadata": {
    "editable": true
   },
   "outputs": [
    {
     "data": {
      "text/html": [
       "<div>\n",
       "<style scoped>\n",
       "    .dataframe tbody tr th:only-of-type {\n",
       "        vertical-align: middle;\n",
       "    }\n",
       "\n",
       "    .dataframe tbody tr th {\n",
       "        vertical-align: top;\n",
       "    }\n",
       "\n",
       "    .dataframe thead th {\n",
       "        text-align: right;\n",
       "    }\n",
       "</style>\n",
       "<table border=\"1\" class=\"dataframe\">\n",
       "  <thead>\n",
       "    <tr style=\"text-align: right;\">\n",
       "      <th></th>\n",
       "      <th>artist_id</th>\n",
       "      <th>artist_latitude</th>\n",
       "      <th>artist_location</th>\n",
       "      <th>artist_longitude</th>\n",
       "      <th>artist_name</th>\n",
       "      <th>duration</th>\n",
       "      <th>num_songs</th>\n",
       "      <th>song_id</th>\n",
       "      <th>title</th>\n",
       "      <th>year</th>\n",
       "    </tr>\n",
       "  </thead>\n",
       "  <tbody>\n",
       "    <tr>\n",
       "      <th>0</th>\n",
       "      <td>ARD7TVE1187B99BFB1</td>\n",
       "      <td>None</td>\n",
       "      <td>California - LA</td>\n",
       "      <td>None</td>\n",
       "      <td>Casual</td>\n",
       "      <td>218.932</td>\n",
       "      <td>1</td>\n",
       "      <td>SOMZWCG12A8C13C480</td>\n",
       "      <td>I Didn't Mean To</td>\n",
       "      <td>0</td>\n",
       "    </tr>\n",
       "    <tr>\n",
       "      <th>1</th>\n",
       "      <td>ARNTLGG11E2835DDB9</td>\n",
       "      <td>None</td>\n",
       "      <td></td>\n",
       "      <td>None</td>\n",
       "      <td>Clp</td>\n",
       "      <td>266.396</td>\n",
       "      <td>1</td>\n",
       "      <td>SOUDSGM12AC9618304</td>\n",
       "      <td>Insatiable (Instrumental Version)</td>\n",
       "      <td>0</td>\n",
       "    </tr>\n",
       "    <tr>\n",
       "      <th>2</th>\n",
       "      <td>AR8ZCNI1187B9A069B</td>\n",
       "      <td>None</td>\n",
       "      <td></td>\n",
       "      <td>None</td>\n",
       "      <td>Planet P Project</td>\n",
       "      <td>269.818</td>\n",
       "      <td>1</td>\n",
       "      <td>SOIAZJW12AB01853F1</td>\n",
       "      <td>Pink World</td>\n",
       "      <td>1984</td>\n",
       "    </tr>\n",
       "    <tr>\n",
       "      <th>3</th>\n",
       "      <td>AR10USD1187B99F3F1</td>\n",
       "      <td>None</td>\n",
       "      <td>Burlington, Ontario, Canada</td>\n",
       "      <td>None</td>\n",
       "      <td>Tweeterfriendly Music</td>\n",
       "      <td>189.57</td>\n",
       "      <td>1</td>\n",
       "      <td>SOHKNRJ12A6701D1F8</td>\n",
       "      <td>Drop of Rain</td>\n",
       "      <td>0</td>\n",
       "    </tr>\n",
       "    <tr>\n",
       "      <th>4</th>\n",
       "      <td>ARMJAGH1187FB546F3</td>\n",
       "      <td>35.1497</td>\n",
       "      <td>Memphis, TN</td>\n",
       "      <td>-90.0489</td>\n",
       "      <td>The Box Tops</td>\n",
       "      <td>148.035</td>\n",
       "      <td>1</td>\n",
       "      <td>SOCIWDW12A8C13D406</td>\n",
       "      <td>Soul Deep</td>\n",
       "      <td>1969</td>\n",
       "    </tr>\n",
       "  </tbody>\n",
       "</table>\n",
       "</div>"
      ],
      "text/plain": [
       "            artist_id artist_latitude              artist_location  \\\n",
       "0  ARD7TVE1187B99BFB1            None              California - LA   \n",
       "1  ARNTLGG11E2835DDB9            None                                \n",
       "2  AR8ZCNI1187B9A069B            None                                \n",
       "3  AR10USD1187B99F3F1            None  Burlington, Ontario, Canada   \n",
       "4  ARMJAGH1187FB546F3         35.1497                  Memphis, TN   \n",
       "\n",
       "  artist_longitude            artist_name duration  num_songs  \\\n",
       "0             None                 Casual  218.932          1   \n",
       "1             None                    Clp  266.396          1   \n",
       "2             None       Planet P Project  269.818          1   \n",
       "3             None  Tweeterfriendly Music   189.57          1   \n",
       "4         -90.0489           The Box Tops  148.035          1   \n",
       "\n",
       "              song_id                              title  year  \n",
       "0  SOMZWCG12A8C13C480                   I Didn't Mean To     0  \n",
       "1  SOUDSGM12AC9618304  Insatiable (Instrumental Version)     0  \n",
       "2  SOIAZJW12AB01853F1                         Pink World  1984  \n",
       "3  SOHKNRJ12A6701D1F8                       Drop of Rain     0  \n",
       "4  SOCIWDW12A8C13D406                          Soul Deep  1969  "
      ]
     },
     "execution_count": 23,
     "metadata": {},
     "output_type": "execute_result"
    }
   ],
   "source": [
    "df_ = df.where(pd.notnull(df), 'None')\n",
    "df_.head()"
   ]
  },
  {
   "cell_type": "code",
   "execution_count": 26,
   "metadata": {
    "editable": true
   },
   "outputs": [
    {
     "data": {
      "text/html": [
       "<div>\n",
       "<style scoped>\n",
       "    .dataframe tbody tr th:only-of-type {\n",
       "        vertical-align: middle;\n",
       "    }\n",
       "\n",
       "    .dataframe tbody tr th {\n",
       "        vertical-align: top;\n",
       "    }\n",
       "\n",
       "    .dataframe thead th {\n",
       "        text-align: right;\n",
       "    }\n",
       "</style>\n",
       "<table border=\"1\" class=\"dataframe\">\n",
       "  <thead>\n",
       "    <tr style=\"text-align: right;\">\n",
       "      <th></th>\n",
       "      <th>artist_id</th>\n",
       "      <th>artist_latitude</th>\n",
       "      <th>artist_location</th>\n",
       "      <th>artist_longitude</th>\n",
       "      <th>artist_name</th>\n",
       "      <th>duration</th>\n",
       "      <th>num_songs</th>\n",
       "      <th>song_id</th>\n",
       "      <th>title</th>\n",
       "      <th>year</th>\n",
       "    </tr>\n",
       "  </thead>\n",
       "  <tbody>\n",
       "    <tr>\n",
       "      <th>0</th>\n",
       "      <td>ARD7TVE1187B99BFB1</td>\n",
       "      <td>None</td>\n",
       "      <td>California - LA</td>\n",
       "      <td>None</td>\n",
       "      <td>Casual</td>\n",
       "      <td>218.932</td>\n",
       "      <td>1</td>\n",
       "      <td>SOMZWCG12A8C13C480</td>\n",
       "      <td>I Didn't Mean To</td>\n",
       "      <td>0</td>\n",
       "    </tr>\n",
       "    <tr>\n",
       "      <th>1</th>\n",
       "      <td>ARNTLGG11E2835DDB9</td>\n",
       "      <td>None</td>\n",
       "      <td>None</td>\n",
       "      <td>None</td>\n",
       "      <td>Clp</td>\n",
       "      <td>266.396</td>\n",
       "      <td>1</td>\n",
       "      <td>SOUDSGM12AC9618304</td>\n",
       "      <td>Insatiable (Instrumental Version)</td>\n",
       "      <td>0</td>\n",
       "    </tr>\n",
       "    <tr>\n",
       "      <th>2</th>\n",
       "      <td>AR8ZCNI1187B9A069B</td>\n",
       "      <td>None</td>\n",
       "      <td>None</td>\n",
       "      <td>None</td>\n",
       "      <td>Planet P Project</td>\n",
       "      <td>269.818</td>\n",
       "      <td>1</td>\n",
       "      <td>SOIAZJW12AB01853F1</td>\n",
       "      <td>Pink World</td>\n",
       "      <td>1984</td>\n",
       "    </tr>\n",
       "    <tr>\n",
       "      <th>3</th>\n",
       "      <td>AR10USD1187B99F3F1</td>\n",
       "      <td>None</td>\n",
       "      <td>Burlington, Ontario, Canada</td>\n",
       "      <td>None</td>\n",
       "      <td>Tweeterfriendly Music</td>\n",
       "      <td>189.57</td>\n",
       "      <td>1</td>\n",
       "      <td>SOHKNRJ12A6701D1F8</td>\n",
       "      <td>Drop of Rain</td>\n",
       "      <td>0</td>\n",
       "    </tr>\n",
       "    <tr>\n",
       "      <th>4</th>\n",
       "      <td>ARMJAGH1187FB546F3</td>\n",
       "      <td>35.1497</td>\n",
       "      <td>Memphis, TN</td>\n",
       "      <td>-90.0489</td>\n",
       "      <td>The Box Tops</td>\n",
       "      <td>148.035</td>\n",
       "      <td>1</td>\n",
       "      <td>SOCIWDW12A8C13D406</td>\n",
       "      <td>Soul Deep</td>\n",
       "      <td>1969</td>\n",
       "    </tr>\n",
       "  </tbody>\n",
       "</table>\n",
       "</div>"
      ],
      "text/plain": [
       "            artist_id artist_latitude              artist_location  \\\n",
       "0  ARD7TVE1187B99BFB1            None              California - LA   \n",
       "1  ARNTLGG11E2835DDB9            None                         None   \n",
       "2  AR8ZCNI1187B9A069B            None                         None   \n",
       "3  AR10USD1187B99F3F1            None  Burlington, Ontario, Canada   \n",
       "4  ARMJAGH1187FB546F3         35.1497                  Memphis, TN   \n",
       "\n",
       "  artist_longitude            artist_name duration  num_songs  \\\n",
       "0             None                 Casual  218.932          1   \n",
       "1             None                    Clp  266.396          1   \n",
       "2             None       Planet P Project  269.818          1   \n",
       "3             None  Tweeterfriendly Music   189.57          1   \n",
       "4         -90.0489           The Box Tops  148.035          1   \n",
       "\n",
       "              song_id                              title  year  \n",
       "0  SOMZWCG12A8C13C480                   I Didn't Mean To     0  \n",
       "1  SOUDSGM12AC9618304  Insatiable (Instrumental Version)     0  \n",
       "2  SOIAZJW12AB01853F1                         Pink World  1984  \n",
       "3  SOHKNRJ12A6701D1F8                       Drop of Rain     0  \n",
       "4  SOCIWDW12A8C13D406                          Soul Deep  1969  "
      ]
     },
     "execution_count": 26,
     "metadata": {},
     "output_type": "execute_result"
    }
   ],
   "source": [
    "df_ = df_.where(df_!='', 'None')\n",
    "df_.head()"
   ]
  },
  {
   "cell_type": "markdown",
   "metadata": {
    "editable": true
   },
   "source": [
    "## Check None values"
   ]
  },
  {
   "cell_type": "code",
   "execution_count": 62,
   "metadata": {
    "editable": true
   },
   "outputs": [
    {
     "name": "stdout",
     "output_type": "stream",
     "text": [
      "Index([], dtype='object')\n",
      "[]\n"
     ]
    }
   ],
   "source": [
    "none_values = np.where(df.applymap(lambda x: x is None))\n",
    "none_unique_col_ids = np.unique(none_values[0])\n",
    "none_unique_row_ids = np.unique(none_values[1])\n",
    "print(df.columns[none_unique_col_ids])\n",
    "print(none_unique_row_ids)"
   ]
  },
  {
   "cell_type": "markdown",
   "metadata": {
    "editable": true
   },
   "source": [
    "## check blank values"
   ]
  },
  {
   "cell_type": "code",
   "execution_count": 64,
   "metadata": {
    "editable": true
   },
   "outputs": [
    {
     "name": "stdout",
     "output_type": "stream",
     "text": [
      "Index(['artist_location'], dtype='object')\n",
      "[ 1  2  5  9 10]\n",
      "(array([ 1,  2,  5,  9, 10]), array([2, 2, 2, 2, 2]))\n"
     ]
    }
   ],
   "source": [
    "blank_values = np.where(df.applymap(lambda x: x==''))\n",
    "blank_unique_col_ids = np.unique(blank_values[1])\n",
    "blank_unique_row_ids = np.unique(blank_values[0])\n",
    "print(df.columns[blank_unique_col_ids])\n",
    "print(blank_unique_row_ids)\n",
    "print(blank_values)"
   ]
  },
  {
   "cell_type": "markdown",
   "metadata": {
    "editable": true
   },
   "source": [
    "## check NaN values"
   ]
  },
  {
   "cell_type": "code",
   "execution_count": 8,
   "metadata": {
    "editable": true
   },
   "outputs": [
    {
     "data": {
      "text/plain": [
       "artist_id            True\n",
       "artist_latitude     False\n",
       "artist_location      True\n",
       "artist_longitude    False\n",
       "artist_name          True\n",
       "duration             True\n",
       "num_songs            True\n",
       "song_id              True\n",
       "title                True\n",
       "year                 True\n",
       "dtype: bool"
      ]
     },
     "execution_count": 8,
     "metadata": {},
     "output_type": "execute_result"
    }
   ],
   "source": [
    "df.isnull().sum() == 0"
   ]
  },
  {
   "cell_type": "markdown",
   "metadata": {
    "editable": true
   },
   "source": [
    "## So, datatypes for dataset in SQL\n",
    "\n",
    "| column_names | SQL type|\n",
    "| --- | --- |\n",
    "|artist_id| varchar  Not Null|  \n",
    "|artist_latitude| number nullable|  \n",
    "|artist_location| varchar nullable|\n",
    "|artist_longitude| varchar nullable|    \n",
    "|artist_name| varchar not null|    \n",
    "|duration| decimal with 5 decmal point|  \n",
    "|num_songs| number|  \n",
    "|song_id | varchar|  \n",
    "|title| text|  \n",
    "|year| Number|  "
   ]
  },
  {
   "cell_type": "code",
   "execution_count": 9,
   "metadata": {
    "editable": true
   },
   "outputs": [
    {
     "data": {
      "text/plain": [
       "array(['ARD7TVE1187B99BFB1', 'ARMJAGH1187FB546F3', 'ARKRRTF1187B9984DA',\n",
       "       'AR7G5I41187FB4CE6C', 'ARXR32B1187FB57099', 'ARKFYS91187B98E58F',\n",
       "       'ARD0S291187B9B7BF5', 'AR10USD1187B99F3F1', 'AR8ZCNI1187B9A069B',\n",
       "       'ARNTLGG11E2835DDB9', 'ARGSJW91187B9B1D6B'], dtype=object)"
      ]
     },
     "execution_count": 9,
     "metadata": {},
     "output_type": "execute_result"
    }
   ],
   "source": [
    "df.artist_id.unique()"
   ]
  },
  {
   "cell_type": "markdown",
   "metadata": {
    "editable": true
   },
   "source": [
    "# Analysis of log_data"
   ]
  },
  {
   "cell_type": "code",
   "execution_count": 10,
   "metadata": {
    "editable": true
   },
   "outputs": [],
   "source": [
    "df = pd.read_json('data/log_data/2018/11/2018-11-12-events.json', lines=True)"
   ]
  },
  {
   "cell_type": "code",
   "execution_count": 11,
   "metadata": {
    "editable": true
   },
   "outputs": [
    {
     "data": {
      "text/html": [
       "<div>\n",
       "<style scoped>\n",
       "    .dataframe tbody tr th:only-of-type {\n",
       "        vertical-align: middle;\n",
       "    }\n",
       "\n",
       "    .dataframe tbody tr th {\n",
       "        vertical-align: top;\n",
       "    }\n",
       "\n",
       "    .dataframe thead th {\n",
       "        text-align: right;\n",
       "    }\n",
       "</style>\n",
       "<table border=\"1\" class=\"dataframe\">\n",
       "  <thead>\n",
       "    <tr style=\"text-align: right;\">\n",
       "      <th></th>\n",
       "      <th>artist</th>\n",
       "      <th>auth</th>\n",
       "      <th>firstName</th>\n",
       "      <th>gender</th>\n",
       "      <th>itemInSession</th>\n",
       "      <th>lastName</th>\n",
       "      <th>length</th>\n",
       "      <th>level</th>\n",
       "      <th>location</th>\n",
       "      <th>method</th>\n",
       "      <th>page</th>\n",
       "      <th>registration</th>\n",
       "      <th>sessionId</th>\n",
       "      <th>song</th>\n",
       "      <th>status</th>\n",
       "      <th>ts</th>\n",
       "      <th>userAgent</th>\n",
       "      <th>userId</th>\n",
       "    </tr>\n",
       "  </thead>\n",
       "  <tbody>\n",
       "    <tr>\n",
       "      <th>0</th>\n",
       "      <td>None</td>\n",
       "      <td>Logged In</td>\n",
       "      <td>Celeste</td>\n",
       "      <td>F</td>\n",
       "      <td>0</td>\n",
       "      <td>Williams</td>\n",
       "      <td>NaN</td>\n",
       "      <td>free</td>\n",
       "      <td>Klamath Falls, OR</td>\n",
       "      <td>GET</td>\n",
       "      <td>Home</td>\n",
       "      <td>1.541078e+12</td>\n",
       "      <td>438</td>\n",
       "      <td>None</td>\n",
       "      <td>200</td>\n",
       "      <td>1541990217796</td>\n",
       "      <td>\"Mozilla/5.0 (Windows NT 6.1; WOW64) AppleWebK...</td>\n",
       "      <td>53</td>\n",
       "    </tr>\n",
       "    <tr>\n",
       "      <th>1</th>\n",
       "      <td>Pavement</td>\n",
       "      <td>Logged In</td>\n",
       "      <td>Sylvie</td>\n",
       "      <td>F</td>\n",
       "      <td>0</td>\n",
       "      <td>Cruz</td>\n",
       "      <td>99.16036</td>\n",
       "      <td>free</td>\n",
       "      <td>Washington-Arlington-Alexandria, DC-VA-MD-WV</td>\n",
       "      <td>PUT</td>\n",
       "      <td>NextSong</td>\n",
       "      <td>1.540266e+12</td>\n",
       "      <td>345</td>\n",
       "      <td>Mercy:The Laundromat</td>\n",
       "      <td>200</td>\n",
       "      <td>1541990258796</td>\n",
       "      <td>\"Mozilla/5.0 (Macintosh; Intel Mac OS X 10_9_4...</td>\n",
       "      <td>10</td>\n",
       "    </tr>\n",
       "    <tr>\n",
       "      <th>2</th>\n",
       "      <td>Barry Tuckwell/Academy of St Martin-in-the-Fie...</td>\n",
       "      <td>Logged In</td>\n",
       "      <td>Celeste</td>\n",
       "      <td>F</td>\n",
       "      <td>1</td>\n",
       "      <td>Williams</td>\n",
       "      <td>277.15873</td>\n",
       "      <td>free</td>\n",
       "      <td>Klamath Falls, OR</td>\n",
       "      <td>PUT</td>\n",
       "      <td>NextSong</td>\n",
       "      <td>1.541078e+12</td>\n",
       "      <td>438</td>\n",
       "      <td>Horn Concerto No. 4 in E flat K495: II. Romanc...</td>\n",
       "      <td>200</td>\n",
       "      <td>1541990264796</td>\n",
       "      <td>\"Mozilla/5.0 (Windows NT 6.1; WOW64) AppleWebK...</td>\n",
       "      <td>53</td>\n",
       "    </tr>\n",
       "    <tr>\n",
       "      <th>3</th>\n",
       "      <td>Gary Allan</td>\n",
       "      <td>Logged In</td>\n",
       "      <td>Celeste</td>\n",
       "      <td>F</td>\n",
       "      <td>2</td>\n",
       "      <td>Williams</td>\n",
       "      <td>211.22567</td>\n",
       "      <td>free</td>\n",
       "      <td>Klamath Falls, OR</td>\n",
       "      <td>PUT</td>\n",
       "      <td>NextSong</td>\n",
       "      <td>1.541078e+12</td>\n",
       "      <td>438</td>\n",
       "      <td>Nothing On But The Radio</td>\n",
       "      <td>200</td>\n",
       "      <td>1541990541796</td>\n",
       "      <td>\"Mozilla/5.0 (Windows NT 6.1; WOW64) AppleWebK...</td>\n",
       "      <td>53</td>\n",
       "    </tr>\n",
       "    <tr>\n",
       "      <th>4</th>\n",
       "      <td>None</td>\n",
       "      <td>Logged In</td>\n",
       "      <td>Jacqueline</td>\n",
       "      <td>F</td>\n",
       "      <td>0</td>\n",
       "      <td>Lynch</td>\n",
       "      <td>NaN</td>\n",
       "      <td>paid</td>\n",
       "      <td>Atlanta-Sandy Springs-Roswell, GA</td>\n",
       "      <td>GET</td>\n",
       "      <td>Home</td>\n",
       "      <td>1.540224e+12</td>\n",
       "      <td>389</td>\n",
       "      <td>None</td>\n",
       "      <td>200</td>\n",
       "      <td>1541990714796</td>\n",
       "      <td>\"Mozilla/5.0 (Macintosh; Intel Mac OS X 10_9_4...</td>\n",
       "      <td>29</td>\n",
       "    </tr>\n",
       "  </tbody>\n",
       "</table>\n",
       "</div>"
      ],
      "text/plain": [
       "                                              artist       auth   firstName  \\\n",
       "0                                               None  Logged In     Celeste   \n",
       "1                                           Pavement  Logged In      Sylvie   \n",
       "2  Barry Tuckwell/Academy of St Martin-in-the-Fie...  Logged In     Celeste   \n",
       "3                                         Gary Allan  Logged In     Celeste   \n",
       "4                                               None  Logged In  Jacqueline   \n",
       "\n",
       "  gender  itemInSession  lastName     length level  \\\n",
       "0      F              0  Williams        NaN  free   \n",
       "1      F              0      Cruz   99.16036  free   \n",
       "2      F              1  Williams  277.15873  free   \n",
       "3      F              2  Williams  211.22567  free   \n",
       "4      F              0     Lynch        NaN  paid   \n",
       "\n",
       "                                       location method      page  \\\n",
       "0                             Klamath Falls, OR    GET      Home   \n",
       "1  Washington-Arlington-Alexandria, DC-VA-MD-WV    PUT  NextSong   \n",
       "2                             Klamath Falls, OR    PUT  NextSong   \n",
       "3                             Klamath Falls, OR    PUT  NextSong   \n",
       "4             Atlanta-Sandy Springs-Roswell, GA    GET      Home   \n",
       "\n",
       "   registration  sessionId                                               song  \\\n",
       "0  1.541078e+12        438                                               None   \n",
       "1  1.540266e+12        345                               Mercy:The Laundromat   \n",
       "2  1.541078e+12        438  Horn Concerto No. 4 in E flat K495: II. Romanc...   \n",
       "3  1.541078e+12        438                           Nothing On But The Radio   \n",
       "4  1.540224e+12        389                                               None   \n",
       "\n",
       "   status             ts                                          userAgent  \\\n",
       "0     200  1541990217796  \"Mozilla/5.0 (Windows NT 6.1; WOW64) AppleWebK...   \n",
       "1     200  1541990258796  \"Mozilla/5.0 (Macintosh; Intel Mac OS X 10_9_4...   \n",
       "2     200  1541990264796  \"Mozilla/5.0 (Windows NT 6.1; WOW64) AppleWebK...   \n",
       "3     200  1541990541796  \"Mozilla/5.0 (Windows NT 6.1; WOW64) AppleWebK...   \n",
       "4     200  1541990714796  \"Mozilla/5.0 (Macintosh; Intel Mac OS X 10_9_4...   \n",
       "\n",
       "  userId  \n",
       "0     53  \n",
       "1     10  \n",
       "2     53  \n",
       "3     53  \n",
       "4     29  "
      ]
     },
     "execution_count": 11,
     "metadata": {},
     "output_type": "execute_result"
    }
   ],
   "source": [
    "df.head()"
   ]
  },
  {
   "cell_type": "markdown",
   "metadata": {
    "editable": true
   },
   "source": [
    "## --evaluating values for check constraints"
   ]
  },
  {
   "cell_type": "code",
   "execution_count": 12,
   "metadata": {
    "editable": true
   },
   "outputs": [
    {
     "name": "stdout",
     "output_type": "stream",
     "text": [
      "['Logged In' 'Logged Out']\n",
      "['F' 'M' None]\n",
      "['free' 'paid']\n"
     ]
    }
   ],
   "source": [
    "print(df[\"auth\"].unique())# AttributeError: 'DataFrame' object has no attribute 'unique'\n",
    "# print(df[\"auth\"].nunique(dropna = True))\n",
    "\n",
    "print(df[\"gender\"].unique())# check constraint for gender\n",
    "print(df[\"level\"].unique())"
   ]
  },
  {
   "cell_type": "markdown",
   "metadata": {
    "editable": true
   },
   "source": [
    "# --check missing data in the log_data original dataset"
   ]
  },
  {
   "cell_type": "markdown",
   "metadata": {
    "editable": true
   },
   "source": [
    "## None Values"
   ]
  },
  {
   "cell_type": "code",
   "execution_count": 68,
   "metadata": {
    "editable": true
   },
   "outputs": [
    {
     "name": "stdout",
     "output_type": "stream",
     "text": [
      "Index(['artist', 'firstName', 'gender', 'lastName', 'location', 'song',\n",
      "       'userAgent'],\n",
      "      dtype='object')\n",
      "[  0   4  13  14  15  16  17  19  26  37  38  39  41  43  44  45  46  61\n",
      "  65  66  67  69  71  86  89  96  97 108 110 119 123 132 134 138 149 151\n",
      " 153 157 169 170 172 175 179 195 199 211 212]\n"
     ]
    }
   ],
   "source": [
    "none_values = np.where(df.applymap(lambda x: x is None))\n",
    "\n",
    "none_unique_col_ids = np.unique(none_values[1])\n",
    "none_unique_row_ids = np.unique(none_values[0])\n",
    "\n",
    "print(df.columns[none_unique_col_ids])\n",
    "print(none_unique_row_ids)"
   ]
  },
  {
   "cell_type": "code",
   "execution_count": 69,
   "metadata": {
    "editable": true
   },
   "outputs": [
    {
     "data": {
      "text/plain": [
       "artist                                                        None\n",
       "auth                                                     Logged In\n",
       "firstName                                                  Celeste\n",
       "gender                                                           F\n",
       "itemInSession                                                    0\n",
       "lastName                                                  Williams\n",
       "length                                                         NaN\n",
       "level                                                         free\n",
       "location                                         Klamath Falls, OR\n",
       "method                                                         GET\n",
       "page                                                          Home\n",
       "registration                                           1.54108e+12\n",
       "sessionId                                                      438\n",
       "song                                                          None\n",
       "status                                                         200\n",
       "ts                                                   1541990217796\n",
       "userAgent        \"Mozilla/5.0 (Windows NT 6.1; WOW64) AppleWebK...\n",
       "userId                                                          53\n",
       "Name: 0, dtype: object"
      ]
     },
     "execution_count": 69,
     "metadata": {},
     "output_type": "execute_result"
    }
   ],
   "source": [
    "df.iloc[0]"
   ]
  },
  {
   "cell_type": "markdown",
   "metadata": {
    "editable": true
   },
   "source": [
    "## check blank values"
   ]
  },
  {
   "cell_type": "code",
   "execution_count": 70,
   "metadata": {
    "editable": true
   },
   "outputs": [
    {
     "name": "stdout",
     "output_type": "stream",
     "text": [
      "Index(['userId'], dtype='object')\n",
      "[ 38  39  44  45  67  96 169 212]\n"
     ]
    }
   ],
   "source": [
    "blank_values = np.where(df.applymap(lambda x: x==''))\n",
    "blank_values_row_ids = blank_values[0]\n",
    "blank_values_col_ids = blank_values[1]\n",
    "blank_unique_col_ids = np.unique(blank_values_col_ids)\n",
    "blank_unique_row_ids = np.unique(blank_values_row_ids)\n",
    "print(df.columns[blank_unique_col_ids])\n",
    "print(blank_unique_row_ids)"
   ]
  },
  {
   "cell_type": "code",
   "execution_count": 21,
   "metadata": {
    "editable": true
   },
   "outputs": [
    {
     "data": {
      "text/plain": [
       "artist                    None\n",
       "auth                Logged Out\n",
       "firstName                 None\n",
       "gender                    None\n",
       "itemInSession                3\n",
       "lastName                  None\n",
       "length                     NaN\n",
       "level                     free\n",
       "location                  None\n",
       "method                     GET\n",
       "page                      Home\n",
       "registration               NaN\n",
       "sessionId                  491\n",
       "song                      None\n",
       "status                     200\n",
       "ts               1542023240796\n",
       "userAgent                 None\n",
       "userId                        \n",
       "Name: 44, dtype: object"
      ]
     },
     "execution_count": 21,
     "metadata": {},
     "output_type": "execute_result"
    }
   ],
   "source": [
    "df.iloc[44]"
   ]
  },
  {
   "cell_type": "markdown",
   "metadata": {
    "editable": true
   },
   "source": [
    "## NaN values"
   ]
  },
  {
   "cell_type": "code",
   "execution_count": 23,
   "metadata": {
    "editable": true
   },
   "outputs": [
    {
     "data": {
      "text/plain": [
       "artist           47\n",
       "auth              0\n",
       "firstName         8\n",
       "gender            8\n",
       "itemInSession     0\n",
       "lastName          8\n",
       "length           47\n",
       "level             0\n",
       "location          8\n",
       "method            0\n",
       "page              0\n",
       "registration      8\n",
       "sessionId         0\n",
       "song             47\n",
       "status            0\n",
       "ts                0\n",
       "userAgent         8\n",
       "userId            0\n",
       "dtype: int64"
      ]
     },
     "execution_count": 23,
     "metadata": {},
     "output_type": "execute_result"
    }
   ],
   "source": [
    "df.isnull().sum()"
   ]
  },
  {
   "cell_type": "code",
   "execution_count": 25,
   "metadata": {
    "editable": true
   },
   "outputs": [
    {
     "data": {
      "text/plain": [
       "artist            object\n",
       "auth              object\n",
       "firstName         object\n",
       "gender            object\n",
       "itemInSession      int64\n",
       "lastName          object\n",
       "length           float64\n",
       "level             object\n",
       "location          object\n",
       "method            object\n",
       "page              object\n",
       "registration     float64\n",
       "sessionId          int64\n",
       "song              object\n",
       "status             int64\n",
       "ts                 int64\n",
       "userAgent         object\n",
       "userId            object\n",
       "dtype: object"
      ]
     },
     "execution_count": 25,
     "metadata": {},
     "output_type": "execute_result"
    }
   ],
   "source": [
    "df.dtypes"
   ]
  },
  {
   "cell_type": "markdown",
   "metadata": {
    "editable": true
   },
   "source": [
    "# Filter Data with page = 'NextSong'\n",
    "We found that rows with NaN as well as Blank values are filtered out with this check"
   ]
  },
  {
   "cell_type": "code",
   "execution_count": 35,
   "metadata": {
    "editable": true
   },
   "outputs": [],
   "source": [
    "df_ = df[df['page'] == 'NextSong']"
   ]
  },
  {
   "cell_type": "markdown",
   "metadata": {
    "editable": true
   },
   "source": [
    "## None Values"
   ]
  },
  {
   "cell_type": "code",
   "execution_count": 41,
   "metadata": {
    "editable": true
   },
   "outputs": [
    {
     "name": "stdout",
     "output_type": "stream",
     "text": [
      "(array([], dtype=int64), array([], dtype=int64))\n"
     ]
    }
   ],
   "source": [
    "none_values = np.where(df_.applymap(lambda x: x is None))\n",
    "print(none_values)"
   ]
  },
  {
   "cell_type": "markdown",
   "metadata": {
    "editable": true
   },
   "source": [
    "## Blank values"
   ]
  },
  {
   "cell_type": "code",
   "execution_count": 40,
   "metadata": {
    "editable": true
   },
   "outputs": [
    {
     "name": "stdout",
     "output_type": "stream",
     "text": [
      "(array([], dtype=int64), array([], dtype=int64))\n"
     ]
    }
   ],
   "source": [
    "blank_values = np.where(df_.applymap(lambda x: x==''))\n",
    "print(blank_values)"
   ]
  },
  {
   "cell_type": "markdown",
   "metadata": {
    "editable": true
   },
   "source": [
    "## NaN values"
   ]
  },
  {
   "cell_type": "code",
   "execution_count": 31,
   "metadata": {
    "editable": true
   },
   "outputs": [
    {
     "data": {
      "text/plain": [
       "artist           0\n",
       "auth             0\n",
       "firstName        0\n",
       "gender           0\n",
       "itemInSession    0\n",
       "lastName         0\n",
       "length           0\n",
       "level            0\n",
       "location         0\n",
       "method           0\n",
       "page             0\n",
       "registration     0\n",
       "sessionId        0\n",
       "song             0\n",
       "status           0\n",
       "ts               0\n",
       "userAgent        0\n",
       "userId           0\n",
       "dtype: int64"
      ]
     },
     "execution_count": 31,
     "metadata": {},
     "output_type": "execute_result"
    }
   ],
   "source": [
    "df_.isnull().sum()"
   ]
  },
  {
   "cell_type": "markdown",
   "metadata": {
    "editable": true
   },
   "source": [
    "# Table structures with the filter"
   ]
  },
  {
   "cell_type": "markdown",
   "metadata": {
    "editable": true
   },
   "source": [
    "## songplayes:\n",
    "-------------\n",
    "|column_names | SQL type|\n",
    "| --- | --- |\n",
    "|songplay_id | INT|\n",
    "|start_time| TIMESTAMP|\n",
    "|user_id| INT NOT NULL|\n",
    "|level|varchar   Not Null |\n",
    "|song_id|varchar Not Null|\n",
    "|artist_id| varchar  Not Null|  \n",
    "|session_id       |  number    Not Null  |\n",
    "|location   |      text      Not  Null  |\n",
    "|user_agent         |text    Not Null  |"
   ]
  },
  {
   "cell_type": "markdown",
   "metadata": {
    "editable": true
   },
   "source": [
    "## user:\n",
    "|column_names | SQL type|\n",
    "| --- | --- |\n",
    "userAgent TEXT, \\\n",
    "|user_id|  INT NOT NULL PK|\n",
    "|first_name| VARCHARNOT NULL|\n",
    "|gender| char(1) NOT NULL 'F'or'M'|\n",
    "|last_name| VARCHAR NOT NULL|\n",
    "|level| VARCHAR NOT NULL ('free' or'paid')|"
   ]
  },
  {
   "cell_type": "markdown",
   "metadata": {
    "editable": true
   },
   "source": [
    "## artist:\n",
    "-----\n",
    "|column_names | SQL type|\n",
    "| --- | --- |\n",
    "|artist_id| varchar  Not Null| \n",
    "|name| varchar not null|  \n",
    "|location| varchar NOT NULL|\n",
    "|latitude| number nullable|  \n",
    "|longitude| varchar nullable| \n",
    "\n"
   ]
  },
  {
   "cell_type": "markdown",
   "metadata": {
    "editable": true
   },
   "source": [
    "## songs:\n",
    "----\n",
    "\n",
    "|column_names | SQL type|\n",
    "| --- | --- |\n",
    "|song_id | varchar Not Null PK| \n",
    "|title| text Not Null| \n",
    "|artist_id| varchar  Not Null|   \n",
    "|year| Number Not Null| \n",
    "|duration| Numeric Not Null|\n",
    " \n"
   ]
  },
  {
   "cell_type": "markdown",
   "metadata": {
    "editable": true
   },
   "source": [
    "## time:\n",
    "----\n",
    "\n",
    "|column_names | SQL type|\n",
    "| --- | --- |\n",
    "|start_time | varchar Not Null PK|  \n",
    "|hour| INT  Not Null|    \n",
    "|day| varchar Not Null|  \n",
    "|week| INT Not Null|\n",
    "|month| INT Not Null|  \n",
    "|year| INT Not Null|  \n",
    "|weekday| INT Not Null|  "
   ]
  },
  {
   "cell_type": "markdown",
   "metadata": {
    "editable": true
   },
   "source": [
    "### Others things:  \n",
    "1. __np.where(df.columns == each)__: to find index of an element in an ndarray.   \n",
    "\n",
    "2. Types:  \n",
    "DataFrame: __df.loc[:, [\"ts\"]]__  \n",
    "Series: ___df['ts']__  \n",
    " \n",
    "3. __df.iterrows()__ : The iterrows() method generates an iterator object of the DataFrame, allowing us to iterate each row in the DataFrame. Each iteration produces an index object and a row object (a Pandas Series object).  \n",
    "  \n",
    "4. __type(time_data.dt.hour)__ # series  \n",
    "\n",
    "5. __pd.to_datetime(df[\"ts\"], unit = \"ms\")__: It will change timevalues into date: hh:mm:ss(ms/ns)  \n",
    "\n",
    "6. df.sort_values(by=[\"song_id\"], ascending=True )\n",
    " "
   ]
  },
  {
   "cell_type": "code",
   "execution_count": null,
   "metadata": {
    "editable": true
   },
   "outputs": [],
   "source": []
  }
 ],
 "metadata": {
  "kernelspec": {
   "display_name": "Python 3",
   "language": "python",
   "name": "python3"
  },
  "language_info": {
   "codemirror_mode": {
    "name": "ipython",
    "version": 3
   },
   "file_extension": ".py",
   "mimetype": "text/x-python",
   "name": "python",
   "nbconvert_exporter": "python",
   "pygments_lexer": "ipython3",
   "version": "3.6.3"
  }
 },
 "nbformat": 4,
 "nbformat_minor": 4
}
